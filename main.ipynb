{
 "cells": [
  {
   "cell_type": "code",
   "execution_count": 23,
   "id": "d8a1432a",
   "metadata": {},
   "outputs": [],
   "source": [
    "from langgraph.graph import StateGraph, START, END\n",
    "from typing import TypedDict"
   ]
  },
  {
   "cell_type": "code",
   "execution_count": 24,
   "id": "68214e70",
   "metadata": {},
   "outputs": [],
   "source": [
    "class SDLCState(TypedDict):\n",
    "    messages: str"
   ]
  },
  {
   "cell_type": "markdown",
   "id": "92fd5880",
   "metadata": {},
   "source": [
    "### Node Functions"
   ]
  },
  {
   "cell_type": "code",
   "execution_count": 25,
   "id": "14ab2bdf",
   "metadata": {},
   "outputs": [],
   "source": [
    "def user_input_requirements():\n",
    "    pass"
   ]
  },
  {
   "cell_type": "code",
   "execution_count": 26,
   "id": "cf048436",
   "metadata": {},
   "outputs": [],
   "source": [
    "def auto_generated_user_stories():\n",
    "    pass"
   ]
  },
  {
   "cell_type": "code",
   "execution_count": 27,
   "id": "8ae52960",
   "metadata": {},
   "outputs": [],
   "source": [
    "def product_owner_review():\n",
    "    pass"
   ]
  },
  {
   "cell_type": "code",
   "execution_count": 28,
   "id": "7799573a",
   "metadata": {},
   "outputs": [],
   "source": [
    "def create_design_docs():\n",
    "    pass"
   ]
  },
  {
   "cell_type": "code",
   "execution_count": 29,
   "id": "d31e4252",
   "metadata": {},
   "outputs": [],
   "source": [
    "def revise_user_stories():\n",
    "    pass"
   ]
  },
  {
   "cell_type": "code",
   "execution_count": 30,
   "id": "f19b9b38",
   "metadata": {},
   "outputs": [],
   "source": [
    "def design_review():\n",
    "    pass"
   ]
  },
  {
   "cell_type": "code",
   "execution_count": 31,
   "id": "a0a311ed",
   "metadata": {},
   "outputs": [],
   "source": [
    "def generate_code():\n",
    "    pass"
   ]
  },
  {
   "cell_type": "code",
   "execution_count": 32,
   "id": "cd58b19a",
   "metadata": {},
   "outputs": [],
   "source": [
    "def code_review():\n",
    "    pass"
   ]
  },
  {
   "cell_type": "code",
   "execution_count": 33,
   "id": "75df63f1",
   "metadata": {},
   "outputs": [],
   "source": [
    "def fix_code_after_code_review():\n",
    "    pass"
   ]
  },
  {
   "cell_type": "code",
   "execution_count": 34,
   "id": "9e5b8273",
   "metadata": {},
   "outputs": [],
   "source": [
    "def security_review():\n",
    "    pass"
   ]
  },
  {
   "cell_type": "code",
   "execution_count": 35,
   "id": "3b60276c",
   "metadata": {},
   "outputs": [],
   "source": [
    "def write_test_case():\n",
    "    pass"
   ]
  },
  {
   "cell_type": "code",
   "execution_count": 36,
   "id": "3fe87bdf",
   "metadata": {},
   "outputs": [],
   "source": [
    "def fix_code_after_security():\n",
    "    pass"
   ]
  },
  {
   "cell_type": "code",
   "execution_count": 37,
   "id": "024103cb",
   "metadata": {},
   "outputs": [],
   "source": [
    "def test_case_review():\n",
    "    pass"
   ]
  },
  {
   "cell_type": "code",
   "execution_count": 38,
   "id": "19c1de47",
   "metadata": {},
   "outputs": [],
   "source": [
    "def qa_testing():\n",
    "    pass"
   ]
  },
  {
   "cell_type": "code",
   "execution_count": 39,
   "id": "7889a736",
   "metadata": {},
   "outputs": [],
   "source": [
    "def fix_test_cases_after_review():\n",
    "    pass"
   ]
  },
  {
   "cell_type": "code",
   "execution_count": 40,
   "id": "e16f8c36",
   "metadata": {},
   "outputs": [],
   "source": [
    "def deployment():\n",
    "    pass"
   ]
  },
  {
   "cell_type": "code",
   "execution_count": 41,
   "id": "4a679a5d",
   "metadata": {},
   "outputs": [],
   "source": [
    "def fix_code_after_qa_feedback():\n",
    "    pass"
   ]
  },
  {
   "cell_type": "markdown",
   "id": "5459169c",
   "metadata": {},
   "source": [
    "### Conditional Branches"
   ]
  },
  {
   "cell_type": "code",
   "execution_count": 42,
   "id": "fc39b21e",
   "metadata": {},
   "outputs": [],
   "source": [
    "def product_owner_response():\n",
    "    response = \"approved\"\n",
    "    if response == \"approved\":\n",
    "        return response"
   ]
  },
  {
   "cell_type": "code",
   "execution_count": 43,
   "id": "6798bbeb",
   "metadata": {},
   "outputs": [],
   "source": [
    "def design_review_response():\n",
    "    response = \"approved\"\n",
    "    if response == \"approved\":\n",
    "        return response"
   ]
  },
  {
   "cell_type": "code",
   "execution_count": 44,
   "id": "00d6a2af",
   "metadata": {},
   "outputs": [],
   "source": [
    "def code_review_response():\n",
    "    response = \"approved\"\n",
    "    if response == \"approved\":\n",
    "        return response"
   ]
  },
  {
   "cell_type": "code",
   "execution_count": 45,
   "id": "51a933cb",
   "metadata": {},
   "outputs": [],
   "source": [
    "def security_review_reponse():\n",
    "    response = \"approved\"\n",
    "    if response == \"approved\":\n",
    "        return response"
   ]
  },
  {
   "cell_type": "code",
   "execution_count": 46,
   "id": "82ee9652",
   "metadata": {},
   "outputs": [],
   "source": [
    "def test_case_review_response():\n",
    "    response = \"approved\"\n",
    "    if response == \"approved\":\n",
    "        return response"
   ]
  },
  {
   "cell_type": "code",
   "execution_count": 47,
   "id": "409d65e5",
   "metadata": {},
   "outputs": [],
   "source": [
    "def qa_testing_response():\n",
    "    response = \"passed\"\n",
    "    if response == \"passed\":\n",
    "        return response"
   ]
  },
  {
   "cell_type": "markdown",
   "id": "e2b830bc",
   "metadata": {},
   "source": [
    "### Create Graph, Add nodes and edges"
   ]
  },
  {
   "cell_type": "code",
   "execution_count": 52,
   "id": "7b02a562",
   "metadata": {},
   "outputs": [
    {
     "data": {
      "text/plain": [
       "<langgraph.graph.state.StateGraph at 0x21aad75fed0>"
      ]
     },
     "execution_count": 52,
     "metadata": {},
     "output_type": "execute_result"
    }
   ],
   "source": [
    "graph = StateGraph(SDLCState)\n",
    "\n",
    "# Add Nodes\n",
    "graph.add_node(\"user_input_requirements\", user_input_requirements)\n",
    "graph.add_node(\"auto_generated_user_stories\", auto_generated_user_stories)\n",
    "graph.add_node(\"product_owner_review\", product_owner_review)\n",
    "graph.add_node(\"create_design_docs\", create_design_docs)\n",
    "graph.add_node(\"revise_user_stories\", revise_user_stories)\n",
    "graph.add_node(\"design_review\", design_review)\n",
    "graph.add_node(\"generate_code\", generate_code)\n",
    "graph.add_node(\"code_review\", code_review)\n",
    "graph.add_node(\"fix_code_after_code_review\", fix_code_after_code_review)\n",
    "graph.add_node(\"security_review\", security_review)\n",
    "graph.add_node(\"write_test_case\", write_test_case)\n",
    "graph.add_node(\"fix_code_after_security\", fix_code_after_security)\n",
    "graph.add_node(\"test_case_review\", test_case_review)\n",
    "graph.add_node(\"qa_testing\", qa_testing)\n",
    "graph.add_node(\"fix_test_cases_after_review\", fix_test_cases_after_review)\n",
    "graph.add_node(\"deployment\", deployment)\n",
    "graph.add_node(\"fix_code_after_qa_feedback\", fix_code_after_qa_feedback)\n",
    "\n",
    "\n",
    "# Define Edges\n",
    "graph.add_edge(START, \"user_input_requirements\")\n",
    "graph.add_edge(\"user_input_requirements\", \"auto_generated_user_stories\")\n",
    "graph.add_edge(\"auto_generated_user_stories\", \"product_owner_review\")\n",
    "graph.add_conditional_edges(\n",
    "    \"product_owner_review\",\n",
    "    product_owner_response,\n",
    "    {\"approved\": \"create_design_docs\", \"feedback\": \"revise_user_stories\"},\n",
    ")\n",
    "graph.add_edge(\"revise_user_stories\", \"auto_generated_user_stories\") # When product_owner_response() is Feedback\n",
    "graph.add_edge(\"create_design_docs\", \"design_review\")\n",
    "\n",
    "graph.add_conditional_edges(\"design_review\", design_review_response, {\n",
    "    \"approved\": \"generate_code\", \"feedback\": \"create_design_docs\"\n",
    "})\n",
    "\n",
    "graph.add_edge(\"generate_code\", \"code_review\")\n",
    "graph.add_conditional_edges(\"code_review\", code_review_response, {\n",
    "    \"approved\": \"security_review\",\n",
    "    \"feedback\": \"fix_code_after_code_review\"\n",
    "})\n",
    "graph.add_edge(\"fix_code_after_code_review\", \"generate_code\")\n",
    "\n",
    "graph.add_conditional_edges(\"security_review\", security_review_reponse, {\n",
    "    \"approved\": \"write_test_case\",\n",
    "    \"feedback\": \"fix_code_after_security\"\n",
    "})\n",
    "graph.add_edge(\"fix_code_after_security\", \"generate_code\")\n",
    "\n",
    "graph.add_edge(\"write_test_case\", \"test_case_review\")\n",
    "graph.add_conditional_edges(\"test_case_review\", test_case_review_response, {\n",
    "    \"approved\": \"qa_testing\",\n",
    "    \"feedback\": \"fix_test_cases_after_review\"\n",
    "})\n",
    "graph.add_edge(\"fix_test_cases_after_review\", \"write_test_case\")\n",
    "\n",
    "graph.add_conditional_edges(\"qa_testing\", qa_testing_response, {\n",
    "    \"passed\": \"deployment\", \n",
    "    \"failed\": \"fix_code_after_qa_feedback\"\n",
    "})\n",
    "graph.add_edge(\"fix_code_after_qa_feedback\", \"generate_code\")\n",
    "\n",
    "graph.add_edge(\"deployment\", END)"
   ]
  },
  {
   "cell_type": "code",
   "execution_count": 53,
   "id": "13f67aaa",
   "metadata": {},
   "outputs": [],
   "source": [
    "# Compile the graph\n",
    "workflow = graph.compile()"
   ]
  },
  {
   "cell_type": "code",
   "execution_count": 54,
   "id": "a4533751",
   "metadata": {},
   "outputs": [
    {
     "ename": "ValueError",
     "evalue": "Failed to reach https://mermaid.ink/ API while trying to render your graph. Status code: 502.\n\nTo resolve this issue:\n1. Check your internet connection and try again\n2. Try with higher retry settings: `draw_mermaid_png(..., max_retries=5, retry_delay=2.0)`\n3. Use the Pyppeteer rendering method which will render your graph locally in a browser: `draw_mermaid_png(..., draw_method=MermaidDrawMethod.PYPPETEER)`",
     "output_type": "error",
     "traceback": [
      "\u001b[31m---------------------------------------------------------------------------\u001b[39m",
      "\u001b[31mValueError\u001b[39m                                Traceback (most recent call last)",
      "\u001b[36mFile \u001b[39m\u001b[32md:\\AI\\Agentic AI Course\\Projects\\Project\\SDLC\\.venv\\Lib\\site-packages\\IPython\\core\\formatters.py:1036\u001b[39m, in \u001b[36mMimeBundleFormatter.__call__\u001b[39m\u001b[34m(self, obj, include, exclude)\u001b[39m\n\u001b[32m   1033\u001b[39m     method = get_real_method(obj, \u001b[38;5;28mself\u001b[39m.print_method)\n\u001b[32m   1035\u001b[39m     \u001b[38;5;28;01mif\u001b[39;00m method \u001b[38;5;129;01mis\u001b[39;00m \u001b[38;5;129;01mnot\u001b[39;00m \u001b[38;5;28;01mNone\u001b[39;00m:\n\u001b[32m-> \u001b[39m\u001b[32m1036\u001b[39m         \u001b[38;5;28;01mreturn\u001b[39;00m \u001b[43mmethod\u001b[49m\u001b[43m(\u001b[49m\u001b[43minclude\u001b[49m\u001b[43m=\u001b[49m\u001b[43minclude\u001b[49m\u001b[43m,\u001b[49m\u001b[43m \u001b[49m\u001b[43mexclude\u001b[49m\u001b[43m=\u001b[49m\u001b[43mexclude\u001b[49m\u001b[43m)\u001b[49m\n\u001b[32m   1037\u001b[39m     \u001b[38;5;28;01mreturn\u001b[39;00m \u001b[38;5;28;01mNone\u001b[39;00m\n\u001b[32m   1038\u001b[39m \u001b[38;5;28;01melse\u001b[39;00m:\n",
      "\u001b[36mFile \u001b[39m\u001b[32md:\\AI\\Agentic AI Course\\Projects\\Project\\SDLC\\.venv\\Lib\\site-packages\\langgraph\\pregel\\main.py:758\u001b[39m, in \u001b[36mPregel._repr_mimebundle_\u001b[39m\u001b[34m(self, **kwargs)\u001b[39m\n\u001b[32m    754\u001b[39m \u001b[38;5;28;01mdef\u001b[39;00m\u001b[38;5;250m \u001b[39m\u001b[34m_repr_mimebundle_\u001b[39m(\u001b[38;5;28mself\u001b[39m, **kwargs: Any) -> \u001b[38;5;28mdict\u001b[39m[\u001b[38;5;28mstr\u001b[39m, Any]:\n\u001b[32m    755\u001b[39m \u001b[38;5;250m    \u001b[39m\u001b[33;03m\"\"\"Mime bundle used by Jupyter to display the graph\"\"\"\u001b[39;00m\n\u001b[32m    756\u001b[39m     \u001b[38;5;28;01mreturn\u001b[39;00m {\n\u001b[32m    757\u001b[39m         \u001b[33m\"\u001b[39m\u001b[33mtext/plain\u001b[39m\u001b[33m\"\u001b[39m: \u001b[38;5;28mrepr\u001b[39m(\u001b[38;5;28mself\u001b[39m),\n\u001b[32m--> \u001b[39m\u001b[32m758\u001b[39m         \u001b[33m\"\u001b[39m\u001b[33mimage/png\u001b[39m\u001b[33m\"\u001b[39m: \u001b[38;5;28;43mself\u001b[39;49m\u001b[43m.\u001b[49m\u001b[43mget_graph\u001b[49m\u001b[43m(\u001b[49m\u001b[43m)\u001b[49m\u001b[43m.\u001b[49m\u001b[43mdraw_mermaid_png\u001b[49m\u001b[43m(\u001b[49m\u001b[43m)\u001b[49m,\n\u001b[32m    759\u001b[39m     }\n",
      "\u001b[36mFile \u001b[39m\u001b[32md:\\AI\\Agentic AI Course\\Projects\\Project\\SDLC\\.venv\\Lib\\site-packages\\langchain_core\\runnables\\graph.py:695\u001b[39m, in \u001b[36mGraph.draw_mermaid_png\u001b[39m\u001b[34m(self, curve_style, node_colors, wrap_label_n_words, output_file_path, draw_method, background_color, padding, max_retries, retry_delay, frontmatter_config)\u001b[39m\n\u001b[32m    687\u001b[39m \u001b[38;5;28;01mfrom\u001b[39;00m\u001b[38;5;250m \u001b[39m\u001b[34;01mlangchain_core\u001b[39;00m\u001b[34;01m.\u001b[39;00m\u001b[34;01mrunnables\u001b[39;00m\u001b[34;01m.\u001b[39;00m\u001b[34;01mgraph_mermaid\u001b[39;00m\u001b[38;5;250m \u001b[39m\u001b[38;5;28;01mimport\u001b[39;00m draw_mermaid_png\n\u001b[32m    689\u001b[39m mermaid_syntax = \u001b[38;5;28mself\u001b[39m.draw_mermaid(\n\u001b[32m    690\u001b[39m     curve_style=curve_style,\n\u001b[32m    691\u001b[39m     node_colors=node_colors,\n\u001b[32m    692\u001b[39m     wrap_label_n_words=wrap_label_n_words,\n\u001b[32m    693\u001b[39m     frontmatter_config=frontmatter_config,\n\u001b[32m    694\u001b[39m )\n\u001b[32m--> \u001b[39m\u001b[32m695\u001b[39m \u001b[38;5;28;01mreturn\u001b[39;00m \u001b[43mdraw_mermaid_png\u001b[49m\u001b[43m(\u001b[49m\n\u001b[32m    696\u001b[39m \u001b[43m    \u001b[49m\u001b[43mmermaid_syntax\u001b[49m\u001b[43m=\u001b[49m\u001b[43mmermaid_syntax\u001b[49m\u001b[43m,\u001b[49m\n\u001b[32m    697\u001b[39m \u001b[43m    \u001b[49m\u001b[43moutput_file_path\u001b[49m\u001b[43m=\u001b[49m\u001b[43moutput_file_path\u001b[49m\u001b[43m,\u001b[49m\n\u001b[32m    698\u001b[39m \u001b[43m    \u001b[49m\u001b[43mdraw_method\u001b[49m\u001b[43m=\u001b[49m\u001b[43mdraw_method\u001b[49m\u001b[43m,\u001b[49m\n\u001b[32m    699\u001b[39m \u001b[43m    \u001b[49m\u001b[43mbackground_color\u001b[49m\u001b[43m=\u001b[49m\u001b[43mbackground_color\u001b[49m\u001b[43m,\u001b[49m\n\u001b[32m    700\u001b[39m \u001b[43m    \u001b[49m\u001b[43mpadding\u001b[49m\u001b[43m=\u001b[49m\u001b[43mpadding\u001b[49m\u001b[43m,\u001b[49m\n\u001b[32m    701\u001b[39m \u001b[43m    \u001b[49m\u001b[43mmax_retries\u001b[49m\u001b[43m=\u001b[49m\u001b[43mmax_retries\u001b[49m\u001b[43m,\u001b[49m\n\u001b[32m    702\u001b[39m \u001b[43m    \u001b[49m\u001b[43mretry_delay\u001b[49m\u001b[43m=\u001b[49m\u001b[43mretry_delay\u001b[49m\u001b[43m,\u001b[49m\n\u001b[32m    703\u001b[39m \u001b[43m\u001b[49m\u001b[43m)\u001b[49m\n",
      "\u001b[36mFile \u001b[39m\u001b[32md:\\AI\\Agentic AI Course\\Projects\\Project\\SDLC\\.venv\\Lib\\site-packages\\langchain_core\\runnables\\graph_mermaid.py:294\u001b[39m, in \u001b[36mdraw_mermaid_png\u001b[39m\u001b[34m(mermaid_syntax, output_file_path, draw_method, background_color, padding, max_retries, retry_delay)\u001b[39m\n\u001b[32m    288\u001b[39m     img_bytes = asyncio.run(\n\u001b[32m    289\u001b[39m         _render_mermaid_using_pyppeteer(\n\u001b[32m    290\u001b[39m             mermaid_syntax, output_file_path, background_color, padding\n\u001b[32m    291\u001b[39m         )\n\u001b[32m    292\u001b[39m     )\n\u001b[32m    293\u001b[39m \u001b[38;5;28;01melif\u001b[39;00m draw_method == MermaidDrawMethod.API:\n\u001b[32m--> \u001b[39m\u001b[32m294\u001b[39m     img_bytes = \u001b[43m_render_mermaid_using_api\u001b[49m\u001b[43m(\u001b[49m\n\u001b[32m    295\u001b[39m \u001b[43m        \u001b[49m\u001b[43mmermaid_syntax\u001b[49m\u001b[43m,\u001b[49m\n\u001b[32m    296\u001b[39m \u001b[43m        \u001b[49m\u001b[43moutput_file_path\u001b[49m\u001b[43m=\u001b[49m\u001b[43moutput_file_path\u001b[49m\u001b[43m,\u001b[49m\n\u001b[32m    297\u001b[39m \u001b[43m        \u001b[49m\u001b[43mbackground_color\u001b[49m\u001b[43m=\u001b[49m\u001b[43mbackground_color\u001b[49m\u001b[43m,\u001b[49m\n\u001b[32m    298\u001b[39m \u001b[43m        \u001b[49m\u001b[43mmax_retries\u001b[49m\u001b[43m=\u001b[49m\u001b[43mmax_retries\u001b[49m\u001b[43m,\u001b[49m\n\u001b[32m    299\u001b[39m \u001b[43m        \u001b[49m\u001b[43mretry_delay\u001b[49m\u001b[43m=\u001b[49m\u001b[43mretry_delay\u001b[49m\u001b[43m,\u001b[49m\n\u001b[32m    300\u001b[39m \u001b[43m    \u001b[49m\u001b[43m)\u001b[49m\n\u001b[32m    301\u001b[39m \u001b[38;5;28;01melse\u001b[39;00m:\n\u001b[32m    302\u001b[39m     supported_methods = \u001b[33m\"\u001b[39m\u001b[33m, \u001b[39m\u001b[33m\"\u001b[39m.join([m.value \u001b[38;5;28;01mfor\u001b[39;00m m \u001b[38;5;129;01min\u001b[39;00m MermaidDrawMethod])\n",
      "\u001b[36mFile \u001b[39m\u001b[32md:\\AI\\Agentic AI Course\\Projects\\Project\\SDLC\\.venv\\Lib\\site-packages\\langchain_core\\runnables\\graph_mermaid.py:451\u001b[39m, in \u001b[36m_render_mermaid_using_api\u001b[39m\u001b[34m(mermaid_syntax, output_file_path, background_color, file_type, max_retries, retry_delay)\u001b[39m\n\u001b[32m    446\u001b[39m     \u001b[38;5;66;03m# For other status codes, fail immediately\u001b[39;00m\n\u001b[32m    447\u001b[39m     msg = (\n\u001b[32m    448\u001b[39m         \u001b[33m\"\u001b[39m\u001b[33mFailed to reach https://mermaid.ink/ API while trying to render \u001b[39m\u001b[33m\"\u001b[39m\n\u001b[32m    449\u001b[39m         \u001b[33mf\u001b[39m\u001b[33m\"\u001b[39m\u001b[33myour graph. Status code: \u001b[39m\u001b[38;5;132;01m{\u001b[39;00mresponse.status_code\u001b[38;5;132;01m}\u001b[39;00m\u001b[33m.\u001b[39m\u001b[38;5;130;01m\\n\u001b[39;00m\u001b[38;5;130;01m\\n\u001b[39;00m\u001b[33m\"\u001b[39m\n\u001b[32m    450\u001b[39m     ) + error_msg_suffix\n\u001b[32m--> \u001b[39m\u001b[32m451\u001b[39m     \u001b[38;5;28;01mraise\u001b[39;00m \u001b[38;5;167;01mValueError\u001b[39;00m(msg)\n\u001b[32m    453\u001b[39m \u001b[38;5;28;01mexcept\u001b[39;00m (requests.RequestException, requests.Timeout) \u001b[38;5;28;01mas\u001b[39;00m e:\n\u001b[32m    454\u001b[39m     \u001b[38;5;28;01mif\u001b[39;00m attempt < max_retries:\n\u001b[32m    455\u001b[39m         \u001b[38;5;66;03m# Exponential backoff with jitter\u001b[39;00m\n",
      "\u001b[31mValueError\u001b[39m: Failed to reach https://mermaid.ink/ API while trying to render your graph. Status code: 502.\n\nTo resolve this issue:\n1. Check your internet connection and try again\n2. Try with higher retry settings: `draw_mermaid_png(..., max_retries=5, retry_delay=2.0)`\n3. Use the Pyppeteer rendering method which will render your graph locally in a browser: `draw_mermaid_png(..., draw_method=MermaidDrawMethod.PYPPETEER)`"
     ]
    },
    {
     "data": {
      "text/plain": [
       "<langgraph.graph.state.CompiledStateGraph at 0x21aad75fc50>"
      ]
     },
     "execution_count": 54,
     "metadata": {},
     "output_type": "execute_result"
    }
   ],
   "source": [
    "workflow"
   ]
  },
  {
   "cell_type": "markdown",
   "id": "c20431b7",
   "metadata": {},
   "source": [
    "### Misc"
   ]
  },
  {
   "cell_type": "code",
   "execution_count": 51,
   "id": "8978a4d9",
   "metadata": {},
   "outputs": [
    {
     "data": {
      "text/plain": [
       "'\\nNodes:\\n\\nuser_input_requirements()\\nauto_generated_user_stories()\\nproduct_owner_review()\\ncreate_design_docs() # Consist both functional & technical\\nrevise_user_stories()\\ndesign_review()\\ngenerate_code()\\ncode_review()\\nfix_code_after_code_review()\\nsecurity_review()\\nwrite_test_case()\\nfix_code_after_security()\\ntest_case_review()\\nqa_testing()\\nfix_test_cases_after_review()\\ndeployment()\\nfix_code_after_qa_feedback()\\n'"
      ]
     },
     "execution_count": 51,
     "metadata": {},
     "output_type": "execute_result"
    }
   ],
   "source": [
    "\"\"\"\n",
    "# Conditional Branches\n",
    "\n",
    "1. product_owner_response()\n",
    "2. design_review_response()\n",
    "3. code_review_response()\n",
    "4. security_review_reponse()\n",
    "5. test_case_review_response()\n",
    "6. qa_testing_response()\n",
    "\"\"\"\n",
    "\n",
    "\n",
    "\n",
    "\"\"\"\n",
    "Nodes:\n",
    "\n",
    "user_input_requirements()\n",
    "auto_generated_user_stories()\n",
    "product_owner_review()\n",
    "create_design_docs() # Consist both functional & technical\n",
    "revise_user_stories()\n",
    "design_review()\n",
    "generate_code()\n",
    "code_review()\n",
    "fix_code_after_code_review()\n",
    "security_review()\n",
    "write_test_case()\n",
    "fix_code_after_security()\n",
    "test_case_review()\n",
    "qa_testing()\n",
    "fix_test_cases_after_review()\n",
    "deployment()\n",
    "fix_code_after_qa_feedback()\n",
    "\"\"\""
   ]
  }
 ],
 "metadata": {
  "kernelspec": {
   "display_name": ".venv",
   "language": "python",
   "name": "python3"
  },
  "language_info": {
   "codemirror_mode": {
    "name": "ipython",
    "version": 3
   },
   "file_extension": ".py",
   "mimetype": "text/x-python",
   "name": "python",
   "nbconvert_exporter": "python",
   "pygments_lexer": "ipython3",
   "version": "3.13.3"
  }
 },
 "nbformat": 4,
 "nbformat_minor": 5
}
