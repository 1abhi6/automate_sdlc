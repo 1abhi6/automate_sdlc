{
 "cells": [
  {
   "cell_type": "code",
   "execution_count": 159,
   "id": "d8a1432a",
   "metadata": {},
   "outputs": [],
   "source": [
    "from langgraph.graph import StateGraph, START, END, add_messages\n",
    "from typing import TypedDict, Annotated\n",
    "from langchain_core.prompts import PromptTemplate\n",
    "from langchain_groq import ChatGroq\n",
    "from langchain_openai import ChatOpenAI\n",
    "from dotenv import load_dotenv\n",
    "from langchain_core.output_parsers import StrOutputParser\n",
    "from jsonschema import validate\n",
    "import json"
   ]
  },
  {
   "cell_type": "code",
   "execution_count": 160,
   "id": "34ede48e",
   "metadata": {},
   "outputs": [
    {
     "data": {
      "text/plain": [
       "True"
      ]
     },
     "execution_count": 160,
     "metadata": {},
     "output_type": "execute_result"
    }
   ],
   "source": [
    "load_dotenv()"
   ]
  },
  {
   "cell_type": "code",
   "execution_count": null,
   "id": "4c6d0fa4",
   "metadata": {},
   "outputs": [],
   "source": [
    "model = ChatGroq(model=\"llama-3.1-8b-instant\")\n",
    "# model = ChatOpenAI(model=\"gpt-4o-mini\")"
   ]
  },
  {
   "cell_type": "markdown",
   "id": "d2f4a4bf",
   "metadata": {},
   "source": [
    "### Utility Functions"
   ]
  },
  {
   "cell_type": "code",
   "execution_count": null,
   "id": "b57a3728",
   "metadata": {},
   "outputs": [],
   "source": []
  },
  {
   "cell_type": "code",
   "execution_count": 162,
   "id": "68214e70",
   "metadata": {},
   "outputs": [],
   "source": [
    "class SDLCState(TypedDict):\n",
    "    user_input_requirements: str\n",
    "    auto_generated_user_stories_markdown: Annotated[list[str], add_messages]"
   ]
  },
  {
   "cell_type": "markdown",
   "id": "92fd5880",
   "metadata": {},
   "source": [
    "### Node Functions"
   ]
  },
  {
   "cell_type": "code",
   "execution_count": 163,
   "id": "14ab2bdf",
   "metadata": {},
   "outputs": [],
   "source": [
    "def user_input_requirements(state: SDLCState):\n",
    "    user_input = \"\"\"\n",
    "        I want to build a task management web application. \n",
    "        Features:\n",
    "        - Users can create, update, and delete tasks.\n",
    "        - Tasks should have priority and due dates.\n",
    "        - A dashboard to track completed vs pending tasks.\n",
    "        - Simple login with email and password.\n",
    "        Tech Stack Preference: Python (FastAPI) for backend, React for frontend.\n",
    "        Deployment: Host on AWS.\n",
    "        \"\"\"\n",
    "    \n",
    "    return {\"user_input_requirements\": user_input}"
   ]
  },
  {
   "cell_type": "code",
   "execution_count": 164,
   "id": "cf048436",
   "metadata": {},
   "outputs": [],
   "source": [
    "def auto_generated_user_stories(state: SDLCState):\n",
    "    prompt_template = PromptTemplate(\n",
    "        template=\"\"\"\n",
    "         You are an expert Agile Product Owner and Business Analyst. \n",
    "         Your task is to generate high-quality, clear, and structured *user stories* from the given software requirements.  \n",
    "\n",
    "         ### Input\n",
    "         You will receive:\n",
    "         - A description of user requirements (provided by the user).\n",
    "         - The project context, if available.\n",
    "\n",
    "         ### Instructions\n",
    "         1. Break down the given requirements into **user stories** following the Agile format:  \n",
    "            *As a [role], I want [feature] so that [benefit]*.\n",
    "            \n",
    "         2. Ensure that each user story:\n",
    "            - Captures a single functionality or feature.  \n",
    "            - Clearly identifies the **user role** (end-user, admin, developer, etc.).  \n",
    "            - Describes the **action or feature** in simple language.  \n",
    "            - States the **value or outcome** of the feature.  \n",
    "\n",
    "         3. For each user story, provide:  \n",
    "            - **User Story ID** (US-1, US-2, …)  \n",
    "            - **Story Statement** (in Agile format)  \n",
    "            - **Acceptance Criteria** (written as Given/When/Then or bullet points)  \n",
    "            - **Priority** (High, Medium, Low)  \n",
    "            - **Dependencies** (if any)  \n",
    "\n",
    "         4. If requirements are ambiguous or incomplete:\n",
    "            - Highlight unclear areas in a separate section called **Clarification Questions**.  \n",
    "\n",
    "         ### Output Format\n",
    "         Return the output in **well-structured Markdown** with the following sections:  \n",
    "         - **User Stories** (list each with ID, statement, acceptance criteria, priority, dependencies)  \n",
    "         - **Clarification Questions** (if needed)  \n",
    "\n",
    "         ### Example\n",
    "         **User Story (US-1):**  \n",
    "         As a registered user, I want to reset my password so that I can regain access to my account when I forget it.  \n",
    "\n",
    "         **Acceptance Criteria:**  \n",
    "         - Given that the user is on the login page, when they click \"Forgot Password\", then they should be prompted to enter their email.  \n",
    "         - An email with a reset link should be sent.  \n",
    "         - The reset link should expire after 24 hours.  \n",
    "\n",
    "         **Priority:** High  \n",
    "         **Dependencies:** Email service setup  \n",
    "\n",
    "         ---\n",
    "         \n",
    "         User Input: \\n {user_input}\n",
    "         \n",
    "         ---\n",
    "\n",
    "         Now, based on the provided requirements, generate a complete set of user stories.\n",
    "   \"\"\",\n",
    "        input_variables=[\"user_input\"],\n",
    "    )\n",
    "\n",
    "    user_story_chain = prompt_template | model | StrOutputParser()\n",
    "\n",
    "    markdown_response = user_story_chain.invoke(\n",
    "        {\"user_input\": state[\"user_input_requirements\"]}\n",
    "    )\n",
    "\n",
    "    return {\"auto_generated_user_stories_markdown\": markdown_response}"
   ]
  },
  {
   "cell_type": "code",
   "execution_count": 165,
   "id": "442bb668",
   "metadata": {},
   "outputs": [],
   "source": [
    "# THIS GRAPH IS USED FOR TESTING\n",
    "\n",
    "graph = StateGraph(SDLCState)\n",
    "\n",
    "graph.add_node(\"auto_generated_user_stories\", auto_generated_user_stories)\n",
    "\n",
    "graph.add_edge(START, \"auto_generated_user_stories\")\n",
    "graph.add_edge(\"auto_generated_user_stories\", END)\n",
    "\n",
    "workflow = graph.compile()"
   ]
  },
  {
   "cell_type": "code",
   "execution_count": 166,
   "id": "cb0342aa",
   "metadata": {},
   "outputs": [],
   "source": [
    "response = workflow.invoke({\"user_input_requirements\": \"\"\"\n",
    "        I want to build a task management web application. \n",
    "        Features:\n",
    "        - Users can create, update, and delete tasks.\n",
    "        - Tasks should have priority and due dates.\n",
    "        - A dashboard to track completed vs pending tasks.\n",
    "        - Simple login with email and password.\n",
    "        Tech Stack Preference: Python (FastAPI) for backend, React for frontend.\n",
    "        Deployment: Host on AWS.\n",
    "        \"\"\"})"
   ]
  },
  {
   "cell_type": "code",
   "execution_count": 167,
   "id": "3b1458e2",
   "metadata": {},
   "outputs": [
    {
     "data": {
      "text/plain": [
       "{'user_input_requirements': '\\n        I want to build a task management web application. \\n        Features:\\n        - Users can create, update, and delete tasks.\\n        - Tasks should have priority and due dates.\\n        - A dashboard to track completed vs pending tasks.\\n        - Simple login with email and password.\\n        Tech Stack Preference: Python (FastAPI) for backend, React for frontend.\\n        Deployment: Host on AWS.\\n        ',\n",
       " 'auto_generated_user_stories_markdown': [HumanMessage(content='# User Stories\\n\\n**User Story (US-1):**  \\nAs a user, I want to create tasks so that I can keep track of my responsibilities and manage my workload efficiently.\\n\\n**Acceptance Criteria:**  \\n- Given that the user is logged in, when they navigate to the task creation page, then they should see a form to enter task details, including title, description, priority, and due date.  \\n- The user should be able to submit the form to create a new task.  \\n- Upon successful creation, the task should be displayed in the task list.\\n\\n**Priority:** High  \\n**Dependencies:** User authentication implementation  \\n\\n---\\n\\n**User Story (US-2):**  \\nAs a user, I want to update my existing tasks so that I can modify details as my workload changes.\\n\\n**Acceptance Criteria:**  \\n- Given that the user is viewing their task list, when they click the \"Edit\" button next to a task, then they should be presented with a form pre-filled with the current task details.  \\n- The user should be able to change any task details and save the changes.  \\n- The task list should reflect the updated information after saving.\\n\\n**Priority:** High  \\n**Dependencies:** Task creation functionality  \\n\\n---\\n\\n**User Story (US-3):**  \\nAs a user, I want to delete tasks so that I can remove items that are no longer relevant to my work.\\n\\n**Acceptance Criteria:**  \\n- Given that the user is viewing their task list, when they click the \"Delete\" button next to a task, then a confirmation prompt should appear.  \\n- If the user confirms, the task should be removed from the list.  \\n- The user should see a success message indicating that the task has been deleted.\\n\\n**Priority:** High  \\n**Dependencies:** Task creation functionality  \\n\\n---\\n\\n**User Story (US-4):**  \\nAs a user, I want to assign priority and due dates to my tasks so that I can prioritize my work and meet deadlines.\\n\\n**Acceptance Criteria:**  \\n- Given that the user is creating or editing a task, when they set the priority and due date fields, then those values should be saved with the task.  \\n- The task list should visually differentiate tasks based on priority (e.g., colors or labels).  \\n- The due date should be clearly displayed for each task.\\n\\n**Priority:** High  \\n**Dependencies:** Task creation and updating functionalities  \\n\\n---\\n\\n**User Story (US-5):**  \\nAs a user, I want to view a dashboard showing my completed vs pending tasks so that I can gauge my productivity at a glance.\\n\\n**Acceptance Criteria:**  \\n- Given that the user is logged in, when they navigate to the dashboard, then they should see a summary of completed and pending tasks displayed graphically.  \\n- The dashboard should update in real-time as tasks are marked complete.  \\n- Users should be able to click on either summary to view the detailed list of tasks.\\n\\n**Priority:** Medium  \\n**Dependencies:** Task status management and database implementation  \\n\\n---\\n\\n**User Story (US-6):**  \\nAs a user, I want to log in with my email and password so that I can securely access my task management application.\\n\\n**Acceptance Criteria:**  \\n- Given that the user is on the login page, when they enter their email and password and click \"Login\", then they should be authenticated.  \\n- If the credentials are incorrect, an error message should be displayed.  \\n- Successful login should redirect the user to the dashboard.\\n\\n**Priority:** High  \\n**Dependencies:** User registration and authentication mechanism  \\n\\n---\\n\\n# Clarification Questions\\n1. Should tasks have any specific categories or tags, in addition to priority and due dates?\\n2. Are there any user roles (e.g., admin, user) with different permissions for managing tasks?\\n3. Do you need notifications or reminders for upcoming due dates?\\n4. Should there be any integration with external services (e.g., calendar, email) for task management?', additional_kwargs={}, response_metadata={}, id='038b6798-c52e-45ae-8fcb-ba17bfdc7402')]}"
      ]
     },
     "execution_count": 167,
     "metadata": {},
     "output_type": "execute_result"
    }
   ],
   "source": [
    "response"
   ]
  },
  {
   "cell_type": "code",
   "execution_count": 168,
   "id": "8ae52960",
   "metadata": {},
   "outputs": [],
   "source": [
    "def product_owner_review():\n",
    "    pass"
   ]
  },
  {
   "cell_type": "code",
   "execution_count": 169,
   "id": "7799573a",
   "metadata": {},
   "outputs": [],
   "source": [
    "def create_design_docs():\n",
    "    pass"
   ]
  },
  {
   "cell_type": "code",
   "execution_count": 170,
   "id": "d31e4252",
   "metadata": {},
   "outputs": [],
   "source": [
    "def revise_user_stories():\n",
    "    pass"
   ]
  },
  {
   "cell_type": "code",
   "execution_count": 171,
   "id": "f19b9b38",
   "metadata": {},
   "outputs": [],
   "source": [
    "def design_review():\n",
    "    pass"
   ]
  },
  {
   "cell_type": "code",
   "execution_count": 172,
   "id": "a0a311ed",
   "metadata": {},
   "outputs": [],
   "source": [
    "def generate_code():\n",
    "    pass"
   ]
  },
  {
   "cell_type": "code",
   "execution_count": 173,
   "id": "cd58b19a",
   "metadata": {},
   "outputs": [],
   "source": [
    "def code_review():\n",
    "    pass"
   ]
  },
  {
   "cell_type": "code",
   "execution_count": 174,
   "id": "75df63f1",
   "metadata": {},
   "outputs": [],
   "source": [
    "def fix_code_after_code_review():\n",
    "    pass"
   ]
  },
  {
   "cell_type": "code",
   "execution_count": 175,
   "id": "9e5b8273",
   "metadata": {},
   "outputs": [],
   "source": [
    "def security_review():\n",
    "    pass"
   ]
  },
  {
   "cell_type": "code",
   "execution_count": 176,
   "id": "3b60276c",
   "metadata": {},
   "outputs": [],
   "source": [
    "def write_test_case():\n",
    "    pass"
   ]
  },
  {
   "cell_type": "code",
   "execution_count": 177,
   "id": "3fe87bdf",
   "metadata": {},
   "outputs": [],
   "source": [
    "def fix_code_after_security():\n",
    "    pass"
   ]
  },
  {
   "cell_type": "code",
   "execution_count": 178,
   "id": "024103cb",
   "metadata": {},
   "outputs": [],
   "source": [
    "def test_case_review():\n",
    "    pass"
   ]
  },
  {
   "cell_type": "code",
   "execution_count": 179,
   "id": "19c1de47",
   "metadata": {},
   "outputs": [],
   "source": [
    "def qa_testing():\n",
    "    pass"
   ]
  },
  {
   "cell_type": "code",
   "execution_count": 180,
   "id": "7889a736",
   "metadata": {},
   "outputs": [],
   "source": [
    "def fix_test_cases_after_review():\n",
    "    pass"
   ]
  },
  {
   "cell_type": "code",
   "execution_count": 181,
   "id": "e16f8c36",
   "metadata": {},
   "outputs": [],
   "source": [
    "def deployment():\n",
    "    pass"
   ]
  },
  {
   "cell_type": "code",
   "execution_count": 182,
   "id": "4a679a5d",
   "metadata": {},
   "outputs": [],
   "source": [
    "def fix_code_after_qa_feedback():\n",
    "    pass"
   ]
  },
  {
   "cell_type": "markdown",
   "id": "5459169c",
   "metadata": {},
   "source": [
    "### Conditional Branches"
   ]
  },
  {
   "cell_type": "code",
   "execution_count": 183,
   "id": "fc39b21e",
   "metadata": {},
   "outputs": [],
   "source": [
    "def product_owner_response():\n",
    "    response = \"approved\"\n",
    "    if response == \"approved\":\n",
    "        return response"
   ]
  },
  {
   "cell_type": "code",
   "execution_count": 184,
   "id": "6798bbeb",
   "metadata": {},
   "outputs": [],
   "source": [
    "def design_review_response():\n",
    "    response = \"approved\"\n",
    "    if response == \"approved\":\n",
    "        return response"
   ]
  },
  {
   "cell_type": "code",
   "execution_count": 185,
   "id": "00d6a2af",
   "metadata": {},
   "outputs": [],
   "source": [
    "def code_review_response():\n",
    "    response = \"approved\"\n",
    "    if response == \"approved\":\n",
    "        return response"
   ]
  },
  {
   "cell_type": "code",
   "execution_count": 186,
   "id": "51a933cb",
   "metadata": {},
   "outputs": [],
   "source": [
    "def security_review_reponse():\n",
    "    response = \"approved\"\n",
    "    if response == \"approved\":\n",
    "        return response"
   ]
  },
  {
   "cell_type": "code",
   "execution_count": 187,
   "id": "82ee9652",
   "metadata": {},
   "outputs": [],
   "source": [
    "def test_case_review_response():\n",
    "    response = \"approved\"\n",
    "    if response == \"approved\":\n",
    "        return response"
   ]
  },
  {
   "cell_type": "code",
   "execution_count": 188,
   "id": "409d65e5",
   "metadata": {},
   "outputs": [],
   "source": [
    "def qa_testing_response():\n",
    "    response = \"passed\"\n",
    "    if response == \"passed\":\n",
    "        return response"
   ]
  },
  {
   "cell_type": "markdown",
   "id": "e2b830bc",
   "metadata": {},
   "source": [
    "### Create Graph, Add nodes and edges"
   ]
  },
  {
   "cell_type": "code",
   "execution_count": 189,
   "id": "7b02a562",
   "metadata": {},
   "outputs": [
    {
     "data": {
      "text/plain": [
       "<langgraph.graph.state.StateGraph at 0x1a62e1b9480>"
      ]
     },
     "execution_count": 189,
     "metadata": {},
     "output_type": "execute_result"
    }
   ],
   "source": [
    "graph = StateGraph(SDLCState)\n",
    "\n",
    "# Add Nodes\n",
    "graph.add_node(\"user_input_requirements\", user_input_requirements)\n",
    "graph.add_node(\"auto_generated_user_stories\", auto_generated_user_stories)\n",
    "graph.add_node(\"product_owner_review\", product_owner_review)\n",
    "graph.add_node(\"create_design_docs\", create_design_docs)\n",
    "graph.add_node(\"revise_user_stories\", revise_user_stories)\n",
    "graph.add_node(\"design_review\", design_review)\n",
    "graph.add_node(\"generate_code\", generate_code)\n",
    "graph.add_node(\"code_review\", code_review)\n",
    "graph.add_node(\"fix_code_after_code_review\", fix_code_after_code_review)\n",
    "graph.add_node(\"security_review\", security_review)\n",
    "graph.add_node(\"write_test_case\", write_test_case)\n",
    "graph.add_node(\"fix_code_after_security\", fix_code_after_security)\n",
    "graph.add_node(\"test_case_review\", test_case_review)\n",
    "graph.add_node(\"qa_testing\", qa_testing)\n",
    "graph.add_node(\"fix_test_cases_after_review\", fix_test_cases_after_review)\n",
    "graph.add_node(\"deployment\", deployment)\n",
    "graph.add_node(\"fix_code_after_qa_feedback\", fix_code_after_qa_feedback)\n",
    "\n",
    "\n",
    "# Define Edges\n",
    "graph.add_edge(START, \"user_input_requirements\")\n",
    "graph.add_edge(\"user_input_requirements\", \"auto_generated_user_stories\")\n",
    "graph.add_edge(\"auto_generated_user_stories\", \"product_owner_review\")\n",
    "graph.add_conditional_edges(\n",
    "    \"product_owner_review\",\n",
    "    product_owner_response,\n",
    "    {\"approved\": \"create_design_docs\", \"feedback\": \"revise_user_stories\"},\n",
    ")\n",
    "graph.add_edge(\n",
    "    \"revise_user_stories\", \"auto_generated_user_stories\"\n",
    ")  # When product_owner_response() is Feedback\n",
    "graph.add_edge(\"create_design_docs\", \"design_review\")\n",
    "\n",
    "graph.add_conditional_edges(\n",
    "    \"design_review\",\n",
    "    design_review_response,\n",
    "    {\"approved\": \"generate_code\", \"feedback\": \"create_design_docs\"},\n",
    ")\n",
    "\n",
    "graph.add_edge(\"generate_code\", \"code_review\")\n",
    "graph.add_conditional_edges(\n",
    "    \"code_review\",\n",
    "    code_review_response,\n",
    "    {\"approved\": \"security_review\", \"feedback\": \"fix_code_after_code_review\"},\n",
    ")\n",
    "graph.add_edge(\"fix_code_after_code_review\", \"generate_code\")\n",
    "\n",
    "graph.add_conditional_edges(\n",
    "    \"security_review\",\n",
    "    security_review_reponse,\n",
    "    {\"approved\": \"write_test_case\", \"feedback\": \"fix_code_after_security\"},\n",
    ")\n",
    "graph.add_edge(\"fix_code_after_security\", \"generate_code\")\n",
    "\n",
    "graph.add_edge(\"write_test_case\", \"test_case_review\")\n",
    "graph.add_conditional_edges(\n",
    "    \"test_case_review\",\n",
    "    test_case_review_response,\n",
    "    {\"approved\": \"qa_testing\", \"feedback\": \"fix_test_cases_after_review\"},\n",
    ")\n",
    "graph.add_edge(\"fix_test_cases_after_review\", \"write_test_case\")\n",
    "\n",
    "graph.add_conditional_edges(\n",
    "    \"qa_testing\",\n",
    "    qa_testing_response,\n",
    "    {\"passed\": \"deployment\", \"failed\": \"fix_code_after_qa_feedback\"},\n",
    ")\n",
    "graph.add_edge(\"fix_code_after_qa_feedback\", \"generate_code\")\n",
    "\n",
    "graph.add_edge(\"deployment\", END)"
   ]
  },
  {
   "cell_type": "code",
   "execution_count": 190,
   "id": "13f67aaa",
   "metadata": {},
   "outputs": [],
   "source": [
    "# Compile the graph\n",
    "workflow = graph.compile()"
   ]
  },
  {
   "cell_type": "code",
   "execution_count": null,
   "id": "a4533751",
   "metadata": {},
   "outputs": [],
   "source": []
  },
  {
   "cell_type": "markdown",
   "id": "c20431b7",
   "metadata": {},
   "source": [
    "### Misc"
   ]
  },
  {
   "cell_type": "code",
   "execution_count": 191,
   "id": "8978a4d9",
   "metadata": {},
   "outputs": [
    {
     "data": {
      "text/plain": [
       "'\\nNodes:\\n\\nuser_input_requirements()\\nauto_generated_user_stories()\\nproduct_owner_review()\\ncreate_design_docs() # Consist both functional & technical\\nrevise_user_stories()\\ndesign_review()\\ngenerate_code()\\ncode_review()\\nfix_code_after_code_review()\\nsecurity_review()\\nwrite_test_case()\\nfix_code_after_security()\\ntest_case_review()\\nqa_testing()\\nfix_test_cases_after_review()\\ndeployment()\\nfix_code_after_qa_feedback()\\n'"
      ]
     },
     "execution_count": 191,
     "metadata": {},
     "output_type": "execute_result"
    }
   ],
   "source": [
    "\"\"\"\n",
    "# Conditional Branches\n",
    "\n",
    "1. product_owner_response()\n",
    "2. design_review_response()\n",
    "3. code_review_response()\n",
    "4. security_review_reponse()\n",
    "5. test_case_review_response()\n",
    "6. qa_testing_response()\n",
    "\"\"\"\n",
    "\n",
    "\n",
    "\n",
    "\"\"\"\n",
    "Nodes:\n",
    "\n",
    "user_input_requirements()\n",
    "auto_generated_user_stories()\n",
    "product_owner_review()\n",
    "create_design_docs() # Consist both functional & technical\n",
    "revise_user_stories()\n",
    "design_review()\n",
    "generate_code()\n",
    "code_review()\n",
    "fix_code_after_code_review()\n",
    "security_review()\n",
    "write_test_case()\n",
    "fix_code_after_security()\n",
    "test_case_review()\n",
    "qa_testing()\n",
    "fix_test_cases_after_review()\n",
    "deployment()\n",
    "fix_code_after_qa_feedback()\n",
    "\"\"\""
   ]
  },
  {
   "cell_type": "code",
   "execution_count": null,
   "id": "81b470a1",
   "metadata": {},
   "outputs": [],
   "source": []
  }
 ],
 "metadata": {
  "kernelspec": {
   "display_name": ".venv",
   "language": "python",
   "name": "python3"
  },
  "language_info": {
   "codemirror_mode": {
    "name": "ipython",
    "version": 3
   },
   "file_extension": ".py",
   "mimetype": "text/x-python",
   "name": "python",
   "nbconvert_exporter": "python",
   "pygments_lexer": "ipython3",
   "version": "3.13.3"
  }
 },
 "nbformat": 4,
 "nbformat_minor": 5
}
