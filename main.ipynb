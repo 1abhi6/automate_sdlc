{
 "cells": [
  {
   "cell_type": "code",
   "execution_count": 19,
   "id": "d8a1432a",
   "metadata": {},
   "outputs": [],
   "source": [
    "from langgraph.graph import StateGraph, START, END, add_messages\n",
    "from typing import TypedDict, Annotated, Literal, List, Optional\n",
    "from langchain_core.prompts import PromptTemplate\n",
    "from langchain_groq import ChatGroq\n",
    "from langchain_openai import ChatOpenAI\n",
    "from dotenv import load_dotenv\n",
    "from langchain_core.output_parsers import StrOutputParser\n",
    "from jsonschema import validate\n",
    "from pydantic import BaseModel, Field\n",
    "import json\n",
    "from prompts_config import Config"
   ]
  },
  {
   "cell_type": "code",
   "execution_count": 22,
   "id": "075f4040",
   "metadata": {},
   "outputs": [
    {
     "ename": "UnboundLocalError",
     "evalue": "cannot access local variable 'config_file' where it is not associated with a value",
     "output_type": "error",
     "traceback": [
      "\u001b[31m---------------------------------------------------------------------------\u001b[39m",
      "\u001b[31mUnboundLocalError\u001b[39m                         Traceback (most recent call last)",
      "\u001b[36mCell\u001b[39m\u001b[36m \u001b[39m\u001b[32mIn[22]\u001b[39m\u001b[32m, line 1\u001b[39m\n\u001b[32m----> \u001b[39m\u001b[32m1\u001b[39m config = \u001b[43mConfig\u001b[49m\u001b[43m(\u001b[49m\u001b[43m)\u001b[49m\n",
      "\u001b[36mFile \u001b[39m\u001b[32md:\\AI\\Agentic AI Course\\Projects\\SDLC\\prompts_config.py:6\u001b[39m, in \u001b[36mConfig.__init__\u001b[39m\u001b[34m(self, config_path)\u001b[39m\n\u001b[32m      5\u001b[39m \u001b[38;5;28;01mdef\u001b[39;00m\u001b[38;5;250m \u001b[39m\u001b[34m__init__\u001b[39m(\u001b[38;5;28mself\u001b[39m, config_path=\u001b[38;5;28;01mNone\u001b[39;00m):\n\u001b[32m----> \u001b[39m\u001b[32m6\u001b[39m     \u001b[38;5;28;01mif\u001b[39;00m \u001b[43mconfig_file\u001b[49m \u001b[38;5;129;01mis\u001b[39;00m \u001b[38;5;28;01mNone\u001b[39;00m:\n\u001b[32m      7\u001b[39m         base_dir = os.path.dirname(os.path.abspath(\u001b[34m__file__\u001b[39m))\n\u001b[32m      8\u001b[39m         config_file = os.path.join(base_dir, \u001b[33m\"\u001b[39m\u001b[33mprompts_config.ini\u001b[39m\u001b[33m\"\u001b[39m)\n",
      "\u001b[31mUnboundLocalError\u001b[39m: cannot access local variable 'config_file' where it is not associated with a value"
     ]
    }
   ],
   "source": [
    "config = Config()"
   ]
  },
  {
   "cell_type": "code",
   "execution_count": 2,
   "id": "34ede48e",
   "metadata": {},
   "outputs": [
    {
     "data": {
      "text/plain": [
       "True"
      ]
     },
     "execution_count": 2,
     "metadata": {},
     "output_type": "execute_result"
    }
   ],
   "source": [
    "load_dotenv()"
   ]
  },
  {
   "cell_type": "code",
   "execution_count": 3,
   "id": "4c6d0fa4",
   "metadata": {},
   "outputs": [],
   "source": [
    "model = ChatGroq(model=\"llama-3.1-8b-instant\")\n",
    "# model = ChatOpenAI(model=\"gpt-4o-mini\")"
   ]
  },
  {
   "cell_type": "markdown",
   "id": "d2f4a4bf",
   "metadata": {},
   "source": [
    "### Utility Functions"
   ]
  },
  {
   "cell_type": "code",
   "execution_count": 11,
   "id": "b57a3728",
   "metadata": {},
   "outputs": [],
   "source": [
    "def get_evaluator_schema(model):\n",
    "\n",
    "    class EvaluatorSchema(BaseModel):\n",
    "        status: Literal[\"approved\", \"feedback\"]\n",
    "        feedback: Optional[List[str]] = None\n",
    "        \n",
    "    structured_model = model.with_structured_output(EvaluatorSchema)\n",
    "    \n",
    "    return structured_model\n"
   ]
  },
  {
   "cell_type": "code",
   "execution_count": 12,
   "id": "68214e70",
   "metadata": {},
   "outputs": [],
   "source": [
    "class SDLCState(TypedDict):\n",
    "    user_input_requirements: str\n",
    "    auto_generated_user_stories_markdown: Annotated[list[str], add_messages]\n",
    "    design_docs: Annotated[list[str], add_messages]\n",
    "    code: str\n",
    "    code_review_response: str"
   ]
  },
  {
   "cell_type": "markdown",
   "id": "92fd5880",
   "metadata": {},
   "source": [
    "### Node Functions"
   ]
  },
  {
   "cell_type": "code",
   "execution_count": 17,
   "id": "14ab2bdf",
   "metadata": {},
   "outputs": [],
   "source": [
    "def user_input_requirements(state: SDLCState):\n",
    "    user_input = \"\"\"\n",
    "        I want to build a task management web application. \n",
    "        Features:\n",
    "        - Users can create, update, and delete tasks.\n",
    "        - Tasks should have priority and due dates.\n",
    "        - A dashboard to track completed vs pending tasks.\n",
    "        - Simple login with email and password.\n",
    "        Tech Stack Preference: Python (FastAPI) for backend, React for frontend.\n",
    "        Deployment: Host on AWS.\n",
    "        \"\"\"\n",
    "    \n",
    "    return {\"user_input_requirements\": user_input}"
   ]
  },
  {
   "cell_type": "code",
   "execution_count": 18,
   "id": "cf048436",
   "metadata": {},
   "outputs": [],
   "source": [
    "def auto_generated_user_stories(state: SDLCState):\n",
    "    prompt_template = PromptTemplate(\n",
    "        template=\"\"\"\n",
    "         You are an expert Agile Product Owner and Business Analyst. \n",
    "         Your task is to generate high-quality, clear, and structured *user stories* from the given software requirements.  \n",
    "\n",
    "         ### Input\n",
    "         You will receive:\n",
    "         - A description of user requirements (provided by the user).\n",
    "         - The project context, if available.\n",
    "\n",
    "         ### Instructions\n",
    "         1. Break down the given requirements into **user stories** following the Agile format:  \n",
    "            *As a [role], I want [feature] so that [benefit]*.\n",
    "            \n",
    "         2. Ensure that each user story:\n",
    "            - Captures a single functionality or feature.  \n",
    "            - Clearly identifies the **user role** (end-user, admin, developer, etc.).  \n",
    "            - Describes the **action or feature** in simple language.  \n",
    "            - States the **value or outcome** of the feature.  \n",
    "\n",
    "         3. For each user story, provide:  \n",
    "            - **User Story ID** (US-1, US-2, …)  \n",
    "            - **Story Statement** (in Agile format)  \n",
    "            - **Acceptance Criteria** (written as Given/When/Then or bullet points)  \n",
    "            - **Priority** (High, Medium, Low)  \n",
    "            - **Dependencies** (if any)  \n",
    "\n",
    "         4. If requirements are ambiguous or incomplete:\n",
    "            - Highlight unclear areas in a separate section called **Clarification Questions**.  \n",
    "\n",
    "         ### Output Format\n",
    "         Return the output in **well-structured Markdown** with the following sections:  \n",
    "         - **User Stories** (list each with ID, statement, acceptance criteria, priority, dependencies)  \n",
    "         - **Clarification Questions** (if needed)  \n",
    "\n",
    "         ### Example\n",
    "         **User Story (US-1):**  \n",
    "         As a registered user, I want to reset my password so that I can regain access to my account when I forget it.  \n",
    "\n",
    "         **Acceptance Criteria:**  \n",
    "         - Given that the user is on the login page, when they click \"Forgot Password\", then they should be prompted to enter their email.  \n",
    "         - An email with a reset link should be sent.  \n",
    "         - The reset link should expire after 24 hours.  \n",
    "\n",
    "         **Priority:** High  \n",
    "         **Dependencies:** Email service setup  \n",
    "\n",
    "         ---\n",
    "         \n",
    "         User Input: \\n {user_input}\n",
    "         \n",
    "         ---\n",
    "\n",
    "         Now, based on the provided requirements, generate a complete set of user stories.\n",
    "   \"\"\",\n",
    "        input_variables=[\"user_input\"],\n",
    "    )\n",
    "\n",
    "    user_story_chain = prompt_template | model | StrOutputParser()\n",
    "\n",
    "    markdown_response = user_story_chain.invoke(\n",
    "        {\"user_input\": state[\"user_input_requirements\"]}\n",
    "    )\n",
    "\n",
    "    return {\"auto_generated_user_stories_markdown\": markdown_response}"
   ]
  },
  {
   "cell_type": "code",
   "execution_count": 19,
   "id": "8ae52960",
   "metadata": {},
   "outputs": [],
   "source": [
    "def product_owner_review():\n",
    "    pass"
   ]
  },
  {
   "cell_type": "code",
   "execution_count": 20,
   "id": "7799573a",
   "metadata": {},
   "outputs": [],
   "source": [
    "def create_design_docs(state: SDLCState):\n",
    "    prompt_template = PromptTemplate(\n",
    "        template=\"\"\"\n",
    "        You are a Senior Software Architect.  \n",
    "         Your task is to generate structured **design documentation** from the approved user stories.  \n",
    "         The documentation must cover both **Functional Requirements (FRs)** and **Technical Requirements (TRs)** in detail.  \n",
    "\n",
    "         ### Input\n",
    "         You will receive:\n",
    "         - A set of approved user stories (with ID, statement, acceptance criteria, priority, dependencies).  \n",
    "\n",
    "         ### Instructions\n",
    "         1. **Functional Requirements (FRs):**\n",
    "            - For each user story, identify the main functionality.  \n",
    "            - Document the system behavior in terms of inputs, processes, and outputs.  \n",
    "            - Link each FR to the corresponding User Story ID.  \n",
    "            - Write requirements in clear, testable language (avoid vague terms).  \n",
    "\n",
    "            *Example:*  \n",
    "            FR-1 (Linked to US-2): The system shall allow users to reset their password via a secure email link.  \n",
    "\n",
    "         2. **Technical Requirements (TRs):**\n",
    "            - Define the technical aspects needed to implement each FR.  \n",
    "            - Include details such as:  \n",
    "            - System architecture choices (e.g., client-server, microservices).  \n",
    "            - API design or endpoints.  \n",
    "            - Database design considerations (tables, entities, relationships).  \n",
    "            - Security requirements (encryption, authentication, authorization).  \n",
    "            - Performance requirements (response time, scalability).  \n",
    "            - Integration points (third-party services, APIs).  \n",
    "            - Link each TR to the related FR(s).  \n",
    "\n",
    "            *Example:*  \n",
    "            TR-1 (Supports FR-1): Implement a password reset API endpoint (`/api/auth/reset-password`) that sends a time-limited tokenized link to the user’s registered email.  \n",
    "\n",
    "         3. **Non-Functional Requirements (Optional but recommended):**\n",
    "            - Capture reliability, usability, maintainability, scalability requirements if relevant.  \n",
    "\n",
    "         ### Output Format\n",
    "         Return the output in **well-structured Markdown** with the following sections:  \n",
    "\n",
    "         - **Functional Requirements (FRs)**  \n",
    "            - FR ID, Linked User Story, Description  \n",
    "\n",
    "         - **Technical Requirements (TRs)**  \n",
    "            - TR ID, Linked FR(s), Technical Details  \n",
    "\n",
    "         - **Non-Functional Requirements (NFRs)** (if applicable)  \n",
    "\n",
    "         ### Example Output\n",
    "\n",
    "         **Functional Requirements**  \n",
    "         - FR-1 (Linked to US-1): The system shall allow a registered user to reset their password securely.  \n",
    "         - FR-2 (Linked to US-2): The system shall notify the user upon successful password reset.  \n",
    "\n",
    "         **Technical Requirements**  \n",
    "         - TR-1 (Supports FR-1): Provide an API endpoint `/api/auth/reset-password` that sends a one-time secure token via email.  \n",
    "         - TR-2 (Supports FR-2): Use event-driven architecture with a message queue to trigger email notifications.  \n",
    "\n",
    "         **Non-Functional Requirements**  \n",
    "         - NFR-1: Password reset token must expire after 24 hours.  \n",
    "         - NFR-2: The system shall support 10,000 concurrent password reset requests without downtime.  \n",
    "\n",
    "         ---\n",
    "         \n",
    "         User Story:\n",
    "         \\n\\n {user_story}\n",
    "         Now, generate the **design documentation** for the given user stories.\n",
    "        \"\"\",\n",
    "        input_variables=[\"user_story\"]\n",
    "    )\n",
    "    \n",
    "    design_docs_chain = prompt_template | model | StrOutputParser()\n",
    "    \n",
    "    response = design_docs_chain.invoke({\"user_story\": state[\"auto_generated_user_stories_markdown\"]})\n",
    "    \n",
    "    return {\"design_docs\": response}\n",
    "    \n",
    "    "
   ]
  },
  {
   "cell_type": "code",
   "execution_count": 21,
   "id": "d31e4252",
   "metadata": {},
   "outputs": [],
   "source": [
    "def revise_user_stories():\n",
    "    pass"
   ]
  },
  {
   "cell_type": "code",
   "execution_count": 22,
   "id": "f19b9b38",
   "metadata": {},
   "outputs": [],
   "source": [
    "def design_review():\n",
    "    pass"
   ]
  },
  {
   "cell_type": "code",
   "execution_count": 23,
   "id": "a0a311ed",
   "metadata": {},
   "outputs": [],
   "source": [
    "def generate_code(state: SDLCState):\n",
    "    prompt_template = PromptTemplate(\n",
    "        template=\"\"\" \n",
    "            You are a highly skilled Software Engineer.  \n",
    "            Your task is to generate production-ready source code based on the provided functional and technical requirements.  \n",
    "\n",
    "            ### Input\n",
    "            You will receive:\n",
    "            - Functional Requirements (FRs) linked to user stories.  \n",
    "            - Technical Requirements (TRs) that describe implementation details such as APIs, database design, security, and integrations.  \n",
    "\n",
    "            ### Instructions\n",
    "            1. Write clean, modular, and maintainable code that directly implements the given FRs and TRs.  \n",
    "            2. Follow best practices for the specified programming language (naming conventions, error handling, code organization).  \n",
    "            3. Respect the architectural style mentioned in TRs (e.g., microservices, MVC, layered architecture).  \n",
    "            4. Apply security, validation, and reliability measures described in the requirements.  \n",
    "            5. Use comments only where necessary to explain complex logic.  \n",
    "            6. Return only the **source code**. Do not include explanations, test cases, or extra commentary.  \n",
    "\n",
    "            ### Output Format\n",
    "            - Provide the source code in properly formatted code blocks.  \n",
    "            - If multiple files are required (e.g., API routes, models, configuration), clearly separate them with filenames as headers.  \n",
    "\n",
    "            ---\n",
    "            Technical and Functional design: \\n\\n\n",
    "            {design_doc}\n",
    "            Now, generate the complete source code according to the given functional and technical requirements.\n",
    "        \"\"\",\n",
    "        input_variables=[\"design_doc\"],\n",
    "    )\n",
    "\n",
    "    generate_code_chain = prompt_template | model\n",
    "    response = generate_code_chain.invoke({\"design_doc\": state[\"design_docs\"]})\n",
    "    \n",
    "    return {\"code\": response.content}"
   ]
  },
  {
   "cell_type": "code",
   "execution_count": 13,
   "id": "271d7ed9",
   "metadata": {},
   "outputs": [],
   "source": [
    "def code_review(state: SDLCState):\n",
    "    prompt_template = PromptTemplate(\n",
    "        template=\"\"\"\n",
    "            You are acting as a Senior Software Engineer performing a code review.  \n",
    "            Your task is to carefully evaluate the provided source code against the design requirements and best practices.  \n",
    "\n",
    "            ### Input\n",
    "            You will receive:\n",
    "            - Source code generated from the approved design documents.  \n",
    "            - Functional and Technical Requirements (FRs & TRs) that the code should implement.  \n",
    "\n",
    "            ### Review Instructions\n",
    "            When reviewing the code, check for the following aspects:\n",
    "\n",
    "            1. Correctness  \n",
    "            - Does the code correctly implement the functional and technical requirements?  \n",
    "            - Are all functional flows handled as expected?  \n",
    "\n",
    "            2. Code Quality  \n",
    "            - Is the code clean, readable, and maintainable?  \n",
    "            - Are naming conventions and coding standards followed?  \n",
    "            - Is the logic modular and reusable (avoiding duplication)?  \n",
    "\n",
    "            3. Error Handling & Reliability  \n",
    "            - Are errors and exceptions handled gracefully?  \n",
    "            - Is input validation included where necessary?  \n",
    "\n",
    "            4. Performance & Maintainability  \n",
    "            - Is the code efficient and reasonably optimized?  \n",
    "            - Could the code be refactored for better maintainability?  \n",
    "\n",
    "            ### Output Format\n",
    "            Respond in one of the following ways **only**:\n",
    "\n",
    "            - If the code is fully correct and ready → \"approved\"\n",
    "            - If the code requires changes →  feedback \n",
    "                - [list each issue clearly and concisely in bullet points]\n",
    "\n",
    "\n",
    "            ### Example Outputs\n",
    "\n",
    "            **Approved case:**  \n",
    "            \"approved\"\n",
    "\n",
    "\n",
    "            **Feedback case:**  \n",
    "            feedback:\n",
    "                - Function process_data() does not handle empty input lists.\n",
    "                - Variable names like tmp and val should be more descriptive.\n",
    "                - Missing try/except for database connection.\n",
    "                \n",
    "        Code:\n",
    "        \\n\\n {code}\n",
    "        \"\"\",\n",
    "        input_variables=[\"code\"]\n",
    "    )\n",
    "    \n",
    "    structured_llm = get_evaluator_schema(model)\n",
    "    \n",
    "    code_review_chain = prompt_template | structured_llm\n",
    "    \n",
    "    response = code_review_chain.invoke({\"code\": state[\"code\"]})\n",
    "    \n",
    "    return {\"code_review_response\": response}"
   ]
  },
  {
   "cell_type": "code",
   "execution_count": 24,
   "id": "dd159c26",
   "metadata": {},
   "outputs": [],
   "source": [
    "# THIS GRAPH IS USED FOR TESTING\n",
    "\n",
    "graph = StateGraph(SDLCState)\n",
    "\n",
    "graph.add_node(\"auto_generated_user_stories\", auto_generated_user_stories)\n",
    "\n",
    "graph.add_edge(START, \"auto_generated_user_stories\")\n",
    "\n",
    "graph.add_edge(\"auto_generated_user_stories\", END)\n",
    "\n",
    "workflow = graph.compile()"
   ]
  },
  {
   "cell_type": "code",
   "execution_count": 25,
   "id": "0c0b3111",
   "metadata": {},
   "outputs": [],
   "source": [
    "response = workflow.invoke(\n",
    "    {\n",
    "        \"user_input_requirements\": \"\"\"\n",
    "        I want to build a task management web application. \n",
    "        Features:\n",
    "        - Users can create, update, and delete tasks.\n",
    "        - Tasks should have priority and due dates.\n",
    "        - A dashboard to track completed vs pending tasks.\n",
    "        - Simple login with email and password.\n",
    "        Tech Stack Preference: Python (FastAPI) for backend, React for frontend.\n",
    "        Deployment: Host on AWS.\n",
    "        \"\"\"\n",
    "    }\n",
    ")"
   ]
  },
  {
   "cell_type": "code",
   "execution_count": 45,
   "id": "1d063814",
   "metadata": {},
   "outputs": [
    {
     "data": {
      "text/plain": [
       "{'user_input_requirements': '\\n        I want to build a task management web application. \\n        Features:\\n        - Users can create, update, and delete tasks.\\n        - Tasks should have priority and due dates.\\n        - A dashboard to track completed vs pending tasks.\\n        - Simple login with email and password.\\n        Tech Stack Preference: Python (FastAPI) for backend, React for frontend.\\n        Deployment: Host on AWS.\\n        ',\n",
       " 'auto_generated_user_stories_markdown': [HumanMessage(content='### User Stories\\n\\n#### Task Creation and Management\\n\\nUS-1: As a registered user, I want to create a new task with priority and due date so that I can plan and organize my work efficiently.\\n\\n**Acceptance Criteria:**\\n\\n- Given that the user is logged in, when they click \"Create Task\", then they should see a form to input task details.\\n- The user should be able to select a priority level (High, Medium, Low) and enter a due date.\\n- The task should be saved in the database with the specified details.\\n\\n**Priority:** High\\n**Dependencies:** Task schema setup in database\\n\\nUS-2: As a registered user, I want to update an existing task so that I can change its priority or due date if needed.\\n\\n**Acceptance Criteria:**\\n\\n- Given that the user is logged in and has viewed a task, when they click \"Edit Task\", then they should see a form to update task details.\\n- The user should be able to update the priority level and due date.\\n- The task should be updated in the database with the new details.\\n\\n**Priority:** Medium\\n**Dependencies:** US-1\\n\\nUS-3: As a registered user, I want to delete a task so that I can remove completed or unnecessary tasks.\\n\\n**Acceptance Criteria:**\\n\\n- Given that the user is logged in and has viewed a task, when they click \"Delete Task\", then the task should be removed from the database.\\n- The task should no longer be visible in the task list.\\n\\n**Priority:** Medium\\n**Dependencies:** US-1\\n\\n#### Task Tracking and Dashboard\\n\\nUS-4: As a registered user, I want to view a dashboard showing completed vs pending tasks so that I can track my progress.\\n\\n**Acceptance Criteria:**\\n\\n- Given that the user is logged in, when they view the dashboard, then they should see a chart or graph showing the number of completed and pending tasks.\\n- The dashboard should update in real-time as tasks are completed or created.\\n\\n**Priority:** High\\n**Dependencies:** Task schema setup in database\\n\\n#### Authentication and Authorization\\n\\nUS-5: As a user, I want to log in with email and password so that I can access my task management account.\\n\\n**Acceptance Criteria:**\\n\\n- Given that the user enters a valid email and password, when they click \"Login\", then they should be redirected to the task list.\\n- The user should be authenticated and authorized to access their account.\\n\\n**Priority:** High\\n**Dependencies:** User schema setup in database\\n\\nUS-6: As a registered user, I want to reset my password so that I can regain access to my account when I forget it.\\n\\n**Acceptance Criteria:**\\n\\n- Given that the user is on the login page, when they click \"Forgot Password\", then they should be prompted to enter their email.\\n- An email with a reset link should be sent.\\n- The reset link should expire after 24 hours.\\n\\n**Priority:** High\\n**Dependencies:** Email service setup\\n\\n#### Deployment and Hosting\\n\\nUS-7: As a developer, I want to deploy the task management web application on AWS so that it can be accessed by users.\\n\\n**Acceptance Criteria:**\\n\\n- Given that the application is built with Python (FastAPI) and React, when it is deployed on AWS, then it should be accessible through a public URL.\\n- The application should be secure and scalable.\\n\\n**Priority:** Low\\n**Dependencies:** AWS account setup\\n\\n### Clarification Questions\\n\\n- What is the preferred authentication flow (e.g., OAuth, JWT, session-based)?\\n- How should task priorities be displayed and updated (e.g., dropdown, color-coding)?\\n- Should there be a limit on the number of tasks a user can create or update?\\n- How should the dashboard chart or graph be configured (e.g., time range, task status)?', additional_kwargs={}, response_metadata={}, id='3fb1e685-c30c-44cf-8c59-1e3936399944')],\n",
       " 'design_docs': []}"
      ]
     },
     "execution_count": 45,
     "metadata": {},
     "output_type": "execute_result"
    }
   ],
   "source": [
    "response"
   ]
  },
  {
   "cell_type": "code",
   "execution_count": null,
   "id": "cd58b19a",
   "metadata": {},
   "outputs": [],
   "source": []
  },
  {
   "cell_type": "markdown",
   "id": "e827a16c",
   "metadata": {},
   "source": [
    "### Remaining Nodes to code"
   ]
  },
  {
   "cell_type": "code",
   "execution_count": null,
   "id": "75df63f1",
   "metadata": {},
   "outputs": [],
   "source": [
    "def fix_code_after_code_review():\n",
    "    prompt_template = PromptTemplate(\n",
    "        template=\"\"\"\n",
    "        You are an experienced Software Engineer tasked with updating code after a code review.  \n",
    "You will receive the **original source code** along with **feedback from a code review**.  \n",
    "Your task is to apply the feedback and return the revised code.  \n",
    "\n",
    "---\n",
    "\n",
    "#### Input\n",
    "- **Original Code:** The implementation before the review.  \n",
    "- **Review Feedback:** A list of issues, improvements, or changes suggested during code review.  \n",
    "\n",
    "---\n",
    "\n",
    "#### Instructions\n",
    "1. Carefully read the feedback and identify all required changes.  \n",
    "2. Apply each change to the original code while preserving its intended functionality.  \n",
    "3. Ensure that the updated code:  \n",
    "   - Fixes the issues mentioned in the feedback.  \n",
    "   - Remains clean, modular, and maintainable.  \n",
    "   - Does not introduce new bugs or unnecessary complexity.  \n",
    "4. Do **not** generate explanations, reasoning, or test cases.  \n",
    "5. Return only the revised source code.  \n",
    "\n",
    "---\n",
    "\n",
    "#### Output Format\n",
    "- Provide the **updated code only** inside properly formatted code blocks.  \n",
    "- If multiple files are required, clearly separate them with filenames as headers.  \n",
    "\n",
    "---\n",
    "\n",
    "#### Example Output\n",
    "\n",
    "```python\n",
    "# utils.py\n",
    "def process_data(items: list[int]) -> list[int]:\n",
    "    if not items:\n",
    "        return []\n",
    "    return [x * 2 for x in items]\n",
    "python\n",
    "Copy code\n",
    "# main.py\n",
    "from utils import process_data\n",
    "\n",
    "if __name__ == \"__main__\":\n",
    "    data = [1, 2, 3]\n",
    "    print(process_data(data))\n",
    "        \"\"\"\n",
    "    )"
   ]
  },
  {
   "cell_type": "code",
   "execution_count": 28,
   "id": "9e5b8273",
   "metadata": {},
   "outputs": [],
   "source": [
    "def security_review():\n",
    "    pass"
   ]
  },
  {
   "cell_type": "code",
   "execution_count": 29,
   "id": "3b60276c",
   "metadata": {},
   "outputs": [],
   "source": [
    "def write_test_case():\n",
    "    pass"
   ]
  },
  {
   "cell_type": "code",
   "execution_count": 30,
   "id": "3fe87bdf",
   "metadata": {},
   "outputs": [],
   "source": [
    "def fix_code_after_security():\n",
    "    pass"
   ]
  },
  {
   "cell_type": "code",
   "execution_count": 31,
   "id": "024103cb",
   "metadata": {},
   "outputs": [],
   "source": [
    "def test_case_review():\n",
    "    pass"
   ]
  },
  {
   "cell_type": "code",
   "execution_count": 32,
   "id": "19c1de47",
   "metadata": {},
   "outputs": [],
   "source": [
    "def qa_testing():\n",
    "    pass"
   ]
  },
  {
   "cell_type": "code",
   "execution_count": 33,
   "id": "7889a736",
   "metadata": {},
   "outputs": [],
   "source": [
    "def fix_test_cases_after_review():\n",
    "    pass"
   ]
  },
  {
   "cell_type": "code",
   "execution_count": 34,
   "id": "e16f8c36",
   "metadata": {},
   "outputs": [],
   "source": [
    "def deployment():\n",
    "    pass"
   ]
  },
  {
   "cell_type": "code",
   "execution_count": 35,
   "id": "4a679a5d",
   "metadata": {},
   "outputs": [],
   "source": [
    "def fix_code_after_qa_feedback():\n",
    "    pass"
   ]
  },
  {
   "cell_type": "markdown",
   "id": "5459169c",
   "metadata": {},
   "source": [
    "### Conditional Branches"
   ]
  },
  {
   "cell_type": "code",
   "execution_count": 36,
   "id": "fc39b21e",
   "metadata": {},
   "outputs": [],
   "source": [
    "def product_owner_response():\n",
    "    response = \"approved\"\n",
    "    if response == \"approved\":\n",
    "        return response"
   ]
  },
  {
   "cell_type": "code",
   "execution_count": 37,
   "id": "6798bbeb",
   "metadata": {},
   "outputs": [],
   "source": [
    "def design_review_response():\n",
    "    response = \"approved\"\n",
    "    if response == \"approved\":\n",
    "        return response"
   ]
  },
  {
   "cell_type": "code",
   "execution_count": 38,
   "id": "00d6a2af",
   "metadata": {},
   "outputs": [],
   "source": [
    "def code_review_response():\n",
    "    response = \"approved\"\n",
    "    if response == \"approved\":\n",
    "        return response"
   ]
  },
  {
   "cell_type": "code",
   "execution_count": 39,
   "id": "51a933cb",
   "metadata": {},
   "outputs": [],
   "source": [
    "def security_review_reponse():\n",
    "    response = \"approved\"\n",
    "    if response == \"approved\":\n",
    "        return response"
   ]
  },
  {
   "cell_type": "code",
   "execution_count": 40,
   "id": "82ee9652",
   "metadata": {},
   "outputs": [],
   "source": [
    "def test_case_review_response():\n",
    "    response = \"approved\"\n",
    "    if response == \"approved\":\n",
    "        return response"
   ]
  },
  {
   "cell_type": "code",
   "execution_count": 41,
   "id": "409d65e5",
   "metadata": {},
   "outputs": [],
   "source": [
    "def qa_testing_response():\n",
    "    response = \"passed\"\n",
    "    if response == \"passed\":\n",
    "        return response"
   ]
  },
  {
   "cell_type": "markdown",
   "id": "e2b830bc",
   "metadata": {},
   "source": [
    "### Create Graph, Add nodes and edges"
   ]
  },
  {
   "cell_type": "code",
   "execution_count": 42,
   "id": "7b02a562",
   "metadata": {},
   "outputs": [
    {
     "data": {
      "text/plain": [
       "<langgraph.graph.state.StateGraph at 0x22ada6602d0>"
      ]
     },
     "execution_count": 42,
     "metadata": {},
     "output_type": "execute_result"
    }
   ],
   "source": [
    "graph = StateGraph(SDLCState)\n",
    "\n",
    "# Add Nodes\n",
    "graph.add_node(\"user_input_requirements\", user_input_requirements)\n",
    "graph.add_node(\"auto_generated_user_stories\", auto_generated_user_stories)\n",
    "graph.add_node(\"product_owner_review\", product_owner_review)\n",
    "graph.add_node(\"create_design_docs\", create_design_docs)\n",
    "graph.add_node(\"revise_user_stories\", revise_user_stories)\n",
    "graph.add_node(\"design_review\", design_review)\n",
    "graph.add_node(\"generate_code\", generate_code)\n",
    "graph.add_node(\"code_review\", code_review)\n",
    "graph.add_node(\"fix_code_after_code_review\", fix_code_after_code_review)\n",
    "graph.add_node(\"security_review\", security_review)\n",
    "graph.add_node(\"write_test_case\", write_test_case)\n",
    "graph.add_node(\"fix_code_after_security\", fix_code_after_security)\n",
    "graph.add_node(\"test_case_review\", test_case_review)\n",
    "graph.add_node(\"qa_testing\", qa_testing)\n",
    "graph.add_node(\"fix_test_cases_after_review\", fix_test_cases_after_review)\n",
    "graph.add_node(\"deployment\", deployment)\n",
    "graph.add_node(\"fix_code_after_qa_feedback\", fix_code_after_qa_feedback)\n",
    "\n",
    "\n",
    "# Define Edges\n",
    "graph.add_edge(START, \"user_input_requirements\")\n",
    "graph.add_edge(\"user_input_requirements\", \"auto_generated_user_stories\")\n",
    "graph.add_edge(\"auto_generated_user_stories\", \"product_owner_review\")\n",
    "graph.add_conditional_edges(\n",
    "    \"product_owner_review\",\n",
    "    product_owner_response,\n",
    "    {\"approved\": \"create_design_docs\", \"feedback\": \"revise_user_stories\"},\n",
    ")\n",
    "graph.add_edge(\n",
    "    \"revise_user_stories\", \"auto_generated_user_stories\"\n",
    ")  # When product_owner_response() is Feedback\n",
    "graph.add_edge(\"create_design_docs\", \"design_review\")\n",
    "\n",
    "graph.add_conditional_edges(\n",
    "    \"design_review\",\n",
    "    design_review_response,\n",
    "    {\"approved\": \"generate_code\", \"feedback\": \"create_design_docs\"},\n",
    ")\n",
    "\n",
    "graph.add_edge(\"generate_code\", \"code_review\")\n",
    "graph.add_conditional_edges(\n",
    "    \"code_review\",\n",
    "    code_review_response,\n",
    "    {\"approved\": \"security_review\", \"feedback\": \"fix_code_after_code_review\"},\n",
    ")\n",
    "graph.add_edge(\"fix_code_after_code_review\", \"generate_code\")\n",
    "\n",
    "graph.add_conditional_edges(\n",
    "    \"security_review\",\n",
    "    security_review_reponse,\n",
    "    {\"approved\": \"write_test_case\", \"feedback\": \"fix_code_after_security\"},\n",
    ")\n",
    "graph.add_edge(\"fix_code_after_security\", \"generate_code\")\n",
    "\n",
    "graph.add_edge(\"write_test_case\", \"test_case_review\")\n",
    "graph.add_conditional_edges(\n",
    "    \"test_case_review\",\n",
    "    test_case_review_response,\n",
    "    {\"approved\": \"qa_testing\", \"feedback\": \"fix_test_cases_after_review\"},\n",
    ")\n",
    "graph.add_edge(\"fix_test_cases_after_review\", \"write_test_case\")\n",
    "\n",
    "graph.add_conditional_edges(\n",
    "    \"qa_testing\",\n",
    "    qa_testing_response,\n",
    "    {\"passed\": \"deployment\", \"failed\": \"fix_code_after_qa_feedback\"},\n",
    ")\n",
    "graph.add_edge(\"fix_code_after_qa_feedback\", \"generate_code\")\n",
    "\n",
    "graph.add_edge(\"deployment\", END)"
   ]
  },
  {
   "cell_type": "code",
   "execution_count": 43,
   "id": "13f67aaa",
   "metadata": {},
   "outputs": [],
   "source": [
    "# Compile the graph\n",
    "workflow = graph.compile()"
   ]
  },
  {
   "cell_type": "code",
   "execution_count": null,
   "id": "a4533751",
   "metadata": {},
   "outputs": [],
   "source": []
  },
  {
   "cell_type": "markdown",
   "id": "c20431b7",
   "metadata": {},
   "source": [
    "### Misc"
   ]
  },
  {
   "cell_type": "code",
   "execution_count": 44,
   "id": "8978a4d9",
   "metadata": {},
   "outputs": [
    {
     "data": {
      "text/plain": [
       "'\\nNodes:\\n\\nuser_input_requirements()\\nauto_generated_user_stories()\\nproduct_owner_review()\\ncreate_design_docs() # Consist both functional & technical\\nrevise_user_stories()\\ndesign_review()\\ngenerate_code()\\ncode_review()\\nfix_code_after_code_review()\\nsecurity_review()\\nwrite_test_case()\\nfix_code_after_security()\\ntest_case_review()\\nqa_testing()\\nfix_test_cases_after_review()\\ndeployment()\\nfix_code_after_qa_feedback()\\n'"
      ]
     },
     "execution_count": 44,
     "metadata": {},
     "output_type": "execute_result"
    }
   ],
   "source": [
    "\"\"\"\n",
    "# Conditional Branches\n",
    "\n",
    "1. product_owner_response()\n",
    "2. design_review_response()\n",
    "3. code_review_response()\n",
    "4. security_review_reponse()\n",
    "5. test_case_review_response()\n",
    "6. qa_testing_response()\n",
    "\"\"\"\n",
    "\n",
    "\n",
    "\n",
    "\"\"\"\n",
    "Nodes:\n",
    "\n",
    "user_input_requirements()\n",
    "auto_generated_user_stories()\n",
    "product_owner_review()\n",
    "create_design_docs() # Consist both functional & technical\n",
    "revise_user_stories()\n",
    "design_review()\n",
    "generate_code()\n",
    "code_review()\n",
    "fix_code_after_code_review()\n",
    "security_review()\n",
    "write_test_case()\n",
    "fix_code_after_security()\n",
    "test_case_review()\n",
    "qa_testing()\n",
    "fix_test_cases_after_review()\n",
    "deployment()\n",
    "fix_code_after_qa_feedback()\n",
    "\"\"\""
   ]
  },
  {
   "cell_type": "code",
   "execution_count": null,
   "id": "81b470a1",
   "metadata": {},
   "outputs": [],
   "source": []
  }
 ],
 "metadata": {
  "kernelspec": {
   "display_name": ".venv",
   "language": "python",
   "name": "python3"
  },
  "language_info": {
   "codemirror_mode": {
    "name": "ipython",
    "version": 3
   },
   "file_extension": ".py",
   "mimetype": "text/x-python",
   "name": "python",
   "nbconvert_exporter": "python",
   "pygments_lexer": "ipython3",
   "version": "3.13.3"
  }
 },
 "nbformat": 4,
 "nbformat_minor": 5
}
