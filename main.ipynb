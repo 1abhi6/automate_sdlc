{
 "cells": [
  {
   "cell_type": "code",
   "execution_count": 4,
   "id": "d8a1432a",
   "metadata": {},
   "outputs": [],
   "source": [
    "from langgraph.graph import StateGraph, START, END, add_messages\n",
    "from typing import TypedDict, Annotated, Literal, List, Optional\n",
    "from langchain_core.prompts import PromptTemplate\n",
    "from langchain_groq import ChatGroq\n",
    "from langchain_openai import ChatOpenAI\n",
    "from dotenv import load_dotenv\n",
    "from langchain_core.output_parsers import StrOutputParser\n",
    "from jsonschema import validate\n",
    "from pydantic import BaseModel, Field\n",
    "import json\n",
    "from prompts.prompts_config import PromptConfig"
   ]
  },
  {
   "cell_type": "code",
   "execution_count": 5,
   "id": "075f4040",
   "metadata": {},
   "outputs": [],
   "source": [
    "config = PromptConfig()"
   ]
  },
  {
   "cell_type": "code",
   "execution_count": 6,
   "id": "930b8773",
   "metadata": {},
   "outputs": [
    {
     "data": {
      "text/plain": [
       "'You are an experienced Software Engineer tasked with updating code after a code review.  \\nYou will receive the **original source code** along with **feedback from a code review**.  \\nYour task is to apply the feedback and return the revised code.  \\n\\n---\\n\\n#### Input\\n- **Original Code:** The implementation before the review.  \\n- **Review Feedback:** A list of issues, improvements, or changes suggested during code review.  \\n\\n---\\n\\n#### Instructions\\n1. Carefully read the feedback and identify all required changes.  \\n2. Apply each change to the original code while preserving its intended functionality.  \\n3. Ensure that the updated code:  \\n  - Fixes the issues mentioned in the feedback.  \\n  - Remains clean, modular, and maintainable.  \\n  - Does not introduce new bugs or unnecessary complexity.  \\n4. Do **not** generate explanations, reasoning, or test cases.  \\n5. Return only the revised source code.  \\n\\n---\\n\\n#### Output Format\\n- Provide the **updated code only** inside properly formatted code blocks.  \\n- If multiple files are required, clearly separate them with filenames as headers.  \\n\\n---\\n\\n#### Example Output\\n\\n```python\\n# utils.py\\ndef process_data(items: list[int]) -> list[int]:\\n    if not items:\\n        return []\\n    return [x * 2 for x in items]\\n\\n# main.py\\nfrom utils import process_data\\n\\nif __name__ == \"__main__\":\\n    data = [1, 2, 3]\\n    print(process_data(data))\\n\\nOriginal Code:\\ncheck.py\\n\\nFeedback:\\nNo Change'"
      ]
     },
     "execution_count": 6,
     "metadata": {},
     "output_type": "execute_result"
    }
   ],
   "source": [
    "\n",
    "config.get_prompt(\n",
    "    \"fix_code_after_code_review\",\n",
    "    feedback=\"No Change\",\n",
    "    original_code=\"check.py\"\n",
    "    \n",
    ")"
   ]
  },
  {
   "cell_type": "code",
   "execution_count": null,
   "id": "bf32f4e1",
   "metadata": {},
   "outputs": [],
   "source": []
  },
  {
   "cell_type": "code",
   "execution_count": 7,
   "id": "34ede48e",
   "metadata": {},
   "outputs": [
    {
     "data": {
      "text/plain": [
       "True"
      ]
     },
     "execution_count": 7,
     "metadata": {},
     "output_type": "execute_result"
    }
   ],
   "source": [
    "load_dotenv()"
   ]
  },
  {
   "cell_type": "code",
   "execution_count": 8,
   "id": "4c6d0fa4",
   "metadata": {},
   "outputs": [],
   "source": [
    "model = ChatGroq(model=\"llama-3.1-8b-instant\")\n",
    "# model = ChatOpenAI(model=\"gpt-4o-mini\")"
   ]
  },
  {
   "cell_type": "markdown",
   "id": "d2f4a4bf",
   "metadata": {},
   "source": [
    "### Utility Functions"
   ]
  },
  {
   "cell_type": "code",
   "execution_count": 9,
   "id": "b57a3728",
   "metadata": {},
   "outputs": [],
   "source": [
    "def get_evaluator_schema(model):\n",
    "\n",
    "    class EvaluatorSchema(BaseModel):\n",
    "        status: Literal[\"approved\", \"feedback\"]\n",
    "        feedback: Optional[List[str]] = None\n",
    "        \n",
    "    structured_model = model.with_structured_output(EvaluatorSchema)\n",
    "    \n",
    "    return structured_model\n"
   ]
  },
  {
   "cell_type": "code",
   "execution_count": 10,
   "id": "68214e70",
   "metadata": {},
   "outputs": [],
   "source": [
    "class SDLCState(TypedDict):\n",
    "    user_input_requirements: str\n",
    "    auto_generated_user_stories_markdown: Annotated[list[str], add_messages]\n",
    "    design_docs: Annotated[list[str], add_messages]\n",
    "    code: str\n",
    "    code_review_response: str"
   ]
  },
  {
   "cell_type": "markdown",
   "id": "92fd5880",
   "metadata": {},
   "source": [
    "### Node Functions"
   ]
  },
  {
   "cell_type": "code",
   "execution_count": 11,
   "id": "14ab2bdf",
   "metadata": {},
   "outputs": [],
   "source": [
    "def user_input_requirements(state: SDLCState):\n",
    "    user_input = \"\"\"\n",
    "        I want to build a task management web application. \n",
    "        Features:\n",
    "        - Users can create, update, and delete tasks.\n",
    "        - Tasks should have priority and due dates.\n",
    "        - A dashboard to track completed vs pending tasks.\n",
    "        - Simple login with email and password.\n",
    "        Tech Stack Preference: Python (FastAPI) for backend, React for frontend.\n",
    "        Deployment: Host on AWS.\n",
    "        \"\"\"\n",
    "    \n",
    "    return {\"user_input_requirements\": user_input}"
   ]
  },
  {
   "cell_type": "code",
   "execution_count": 12,
   "id": "cf048436",
   "metadata": {},
   "outputs": [],
   "source": [
    "def auto_generated_user_stories(state: SDLCState):\n",
    "    prompt_template = PromptTemplate(\n",
    "        template=\"\"\"\n",
    "         You are an expert Agile Product Owner and Business Analyst. \n",
    "         Your task is to generate high-quality, clear, and structured *user stories* from the given software requirements.  \n",
    "\n",
    "         ### Input\n",
    "         You will receive:\n",
    "         - A description of user requirements (provided by the user).\n",
    "         - The project context, if available.\n",
    "\n",
    "         ### Instructions\n",
    "         1. Break down the given requirements into **user stories** following the Agile format:  \n",
    "            *As a [role], I want [feature] so that [benefit]*.\n",
    "            \n",
    "         2. Ensure that each user story:\n",
    "            - Captures a single functionality or feature.  \n",
    "            - Clearly identifies the **user role** (end-user, admin, developer, etc.).  \n",
    "            - Describes the **action or feature** in simple language.  \n",
    "            - States the **value or outcome** of the feature.  \n",
    "\n",
    "         3. For each user story, provide:  \n",
    "            - **User Story ID** (US-1, US-2, …)  \n",
    "            - **Story Statement** (in Agile format)  \n",
    "            - **Acceptance Criteria** (written as Given/When/Then or bullet points)  \n",
    "            - **Priority** (High, Medium, Low)  \n",
    "            - **Dependencies** (if any)  \n",
    "\n",
    "         4. If requirements are ambiguous or incomplete:\n",
    "            - Highlight unclear areas in a separate section called **Clarification Questions**.  \n",
    "\n",
    "         ### Output Format\n",
    "         Return the output in **well-structured Markdown** with the following sections:  \n",
    "         - **User Stories** (list each with ID, statement, acceptance criteria, priority, dependencies)  \n",
    "         - **Clarification Questions** (if needed)  \n",
    "\n",
    "         ### Example\n",
    "         **User Story (US-1):**  \n",
    "         As a registered user, I want to reset my password so that I can regain access to my account when I forget it.  \n",
    "\n",
    "         **Acceptance Criteria:**  \n",
    "         - Given that the user is on the login page, when they click \"Forgot Password\", then they should be prompted to enter their email.  \n",
    "         - An email with a reset link should be sent.  \n",
    "         - The reset link should expire after 24 hours.  \n",
    "\n",
    "         **Priority:** High  \n",
    "         **Dependencies:** Email service setup  \n",
    "\n",
    "         ---\n",
    "         \n",
    "         User Input: \\n {user_input}\n",
    "         \n",
    "         ---\n",
    "\n",
    "         Now, based on the provided requirements, generate a complete set of user stories.\n",
    "   \"\"\",\n",
    "        input_variables=[\"user_input\"],\n",
    "    )\n",
    "\n",
    "    user_story_chain = prompt_template | model | StrOutputParser()\n",
    "\n",
    "    markdown_response = user_story_chain.invoke(\n",
    "        {\"user_input\": state[\"user_input_requirements\"]}\n",
    "    )\n",
    "\n",
    "    return {\"auto_generated_user_stories_markdown\": markdown_response}"
   ]
  },
  {
   "cell_type": "code",
   "execution_count": 13,
   "id": "8ae52960",
   "metadata": {},
   "outputs": [],
   "source": [
    "def product_owner_review():\n",
    "    pass"
   ]
  },
  {
   "cell_type": "code",
   "execution_count": 14,
   "id": "7799573a",
   "metadata": {},
   "outputs": [],
   "source": [
    "def create_design_docs(state: SDLCState):\n",
    "    prompt_template = PromptTemplate(\n",
    "        template=\"\"\"\n",
    "        You are a Senior Software Architect.  \n",
    "         Your task is to generate structured **design documentation** from the approved user stories.  \n",
    "         The documentation must cover both **Functional Requirements (FRs)** and **Technical Requirements (TRs)** in detail.  \n",
    "\n",
    "         ### Input\n",
    "         You will receive:\n",
    "         - A set of approved user stories (with ID, statement, acceptance criteria, priority, dependencies).  \n",
    "\n",
    "         ### Instructions\n",
    "         1. **Functional Requirements (FRs):**\n",
    "            - For each user story, identify the main functionality.  \n",
    "            - Document the system behavior in terms of inputs, processes, and outputs.  \n",
    "            - Link each FR to the corresponding User Story ID.  \n",
    "            - Write requirements in clear, testable language (avoid vague terms).  \n",
    "\n",
    "            *Example:*  \n",
    "            FR-1 (Linked to US-2): The system shall allow users to reset their password via a secure email link.  \n",
    "\n",
    "         2. **Technical Requirements (TRs):**\n",
    "            - Define the technical aspects needed to implement each FR.  \n",
    "            - Include details such as:  \n",
    "            - System architecture choices (e.g., client-server, microservices).  \n",
    "            - API design or endpoints.  \n",
    "            - Database design considerations (tables, entities, relationships).  \n",
    "            - Security requirements (encryption, authentication, authorization).  \n",
    "            - Performance requirements (response time, scalability).  \n",
    "            - Integration points (third-party services, APIs).  \n",
    "            - Link each TR to the related FR(s).  \n",
    "\n",
    "            *Example:*  \n",
    "            TR-1 (Supports FR-1): Implement a password reset API endpoint (`/api/auth/reset-password`) that sends a time-limited tokenized link to the user’s registered email.  \n",
    "\n",
    "         3. **Non-Functional Requirements (Optional but recommended):**\n",
    "            - Capture reliability, usability, maintainability, scalability requirements if relevant.  \n",
    "\n",
    "         ### Output Format\n",
    "         Return the output in **well-structured Markdown** with the following sections:  \n",
    "\n",
    "         - **Functional Requirements (FRs)**  \n",
    "            - FR ID, Linked User Story, Description  \n",
    "\n",
    "         - **Technical Requirements (TRs)**  \n",
    "            - TR ID, Linked FR(s), Technical Details  \n",
    "\n",
    "         - **Non-Functional Requirements (NFRs)** (if applicable)  \n",
    "\n",
    "         ### Example Output\n",
    "\n",
    "         **Functional Requirements**  \n",
    "         - FR-1 (Linked to US-1): The system shall allow a registered user to reset their password securely.  \n",
    "         - FR-2 (Linked to US-2): The system shall notify the user upon successful password reset.  \n",
    "\n",
    "         **Technical Requirements**  \n",
    "         - TR-1 (Supports FR-1): Provide an API endpoint `/api/auth/reset-password` that sends a one-time secure token via email.  \n",
    "         - TR-2 (Supports FR-2): Use event-driven architecture with a message queue to trigger email notifications.  \n",
    "\n",
    "         **Non-Functional Requirements**  \n",
    "         - NFR-1: Password reset token must expire after 24 hours.  \n",
    "         - NFR-2: The system shall support 10,000 concurrent password reset requests without downtime.  \n",
    "\n",
    "         ---\n",
    "         \n",
    "         User Story:\n",
    "         \\n\\n {user_story}\n",
    "         Now, generate the **design documentation** for the given user stories.\n",
    "        \"\"\",\n",
    "        input_variables=[\"user_story\"]\n",
    "    )\n",
    "    \n",
    "    design_docs_chain = prompt_template | model | StrOutputParser()\n",
    "    \n",
    "    response = design_docs_chain.invoke({\"user_story\": state[\"auto_generated_user_stories_markdown\"]})\n",
    "    \n",
    "    return {\"design_docs\": response}\n",
    "    \n",
    "    "
   ]
  },
  {
   "cell_type": "code",
   "execution_count": 15,
   "id": "d31e4252",
   "metadata": {},
   "outputs": [],
   "source": [
    "def revise_user_stories():\n",
    "    pass"
   ]
  },
  {
   "cell_type": "code",
   "execution_count": 16,
   "id": "f19b9b38",
   "metadata": {},
   "outputs": [],
   "source": [
    "def design_review():\n",
    "    pass"
   ]
  },
  {
   "cell_type": "code",
   "execution_count": 17,
   "id": "a0a311ed",
   "metadata": {},
   "outputs": [],
   "source": [
    "def generate_code(state: SDLCState):\n",
    "    prompt_template = PromptTemplate(\n",
    "        template=\"\"\" \n",
    "            You are a highly skilled Software Engineer.  \n",
    "            Your task is to generate production-ready source code based on the provided functional and technical requirements.  \n",
    "\n",
    "            ### Input\n",
    "            You will receive:\n",
    "            - Functional Requirements (FRs) linked to user stories.  \n",
    "            - Technical Requirements (TRs) that describe implementation details such as APIs, database design, security, and integrations.  \n",
    "\n",
    "            ### Instructions\n",
    "            1. Write clean, modular, and maintainable code that directly implements the given FRs and TRs.  \n",
    "            2. Follow best practices for the specified programming language (naming conventions, error handling, code organization).  \n",
    "            3. Respect the architectural style mentioned in TRs (e.g., microservices, MVC, layered architecture).  \n",
    "            4. Apply security, validation, and reliability measures described in the requirements.  \n",
    "            5. Use comments only where necessary to explain complex logic.  \n",
    "            6. Return only the **source code**. Do not include explanations, test cases, or extra commentary.  \n",
    "\n",
    "            ### Output Format\n",
    "            - Provide the source code in properly formatted code blocks.  \n",
    "            - If multiple files are required (e.g., API routes, models, configuration), clearly separate them with filenames as headers.  \n",
    "\n",
    "            ---\n",
    "            Technical and Functional design: \\n\\n\n",
    "            {design_doc}\n",
    "            Now, generate the complete source code according to the given functional and technical requirements.\n",
    "        \"\"\",\n",
    "        input_variables=[\"design_doc\"],\n",
    "    )\n",
    "\n",
    "    generate_code_chain = prompt_template | model\n",
    "    response = generate_code_chain.invoke({\"design_doc\": state[\"design_docs\"]})\n",
    "    \n",
    "    return {\"code\": response.content}"
   ]
  },
  {
   "cell_type": "code",
   "execution_count": 18,
   "id": "271d7ed9",
   "metadata": {},
   "outputs": [],
   "source": [
    "def code_review(state: SDLCState):\n",
    "    prompt_template = PromptTemplate(\n",
    "        template=\"\"\"\n",
    "            You are acting as a Senior Software Engineer performing a code review.  \n",
    "            Your task is to carefully evaluate the provided source code against the design requirements and best practices.  \n",
    "\n",
    "            ### Input\n",
    "            You will receive:\n",
    "            - Source code generated from the approved design documents.  \n",
    "            - Functional and Technical Requirements (FRs & TRs) that the code should implement.  \n",
    "\n",
    "            ### Review Instructions\n",
    "            When reviewing the code, check for the following aspects:\n",
    "\n",
    "            1. Correctness  \n",
    "            - Does the code correctly implement the functional and technical requirements?  \n",
    "            - Are all functional flows handled as expected?  \n",
    "\n",
    "            2. Code Quality  \n",
    "            - Is the code clean, readable, and maintainable?  \n",
    "            - Are naming conventions and coding standards followed?  \n",
    "            - Is the logic modular and reusable (avoiding duplication)?  \n",
    "\n",
    "            3. Error Handling & Reliability  \n",
    "            - Are errors and exceptions handled gracefully?  \n",
    "            - Is input validation included where necessary?  \n",
    "\n",
    "            4. Performance & Maintainability  \n",
    "            - Is the code efficient and reasonably optimized?  \n",
    "            - Could the code be refactored for better maintainability?  \n",
    "\n",
    "            ### Output Format\n",
    "            Respond in one of the following ways **only**:\n",
    "\n",
    "            - If the code is fully correct and ready → \"approved\"\n",
    "            - If the code requires changes →  feedback \n",
    "                - [list each issue clearly and concisely in bullet points]\n",
    "\n",
    "\n",
    "            ### Example Outputs\n",
    "\n",
    "            **Approved case:**  \n",
    "            \"approved\"\n",
    "\n",
    "\n",
    "            **Feedback case:**  \n",
    "            feedback:\n",
    "                - Function process_data() does not handle empty input lists.\n",
    "                - Variable names like tmp and val should be more descriptive.\n",
    "                - Missing try/except for database connection.\n",
    "                \n",
    "        Code:\n",
    "        \\n\\n {code}\n",
    "        \"\"\",\n",
    "        input_variables=[\"code\"]\n",
    "    )\n",
    "    \n",
    "    structured_llm = get_evaluator_schema(model)\n",
    "    \n",
    "    code_review_chain = prompt_template | structured_llm\n",
    "    \n",
    "    response = code_review_chain.invoke({\"code\": state[\"code\"]})\n",
    "    \n",
    "    return {\"code_review_response\": response}"
   ]
  },
  {
   "cell_type": "code",
   "execution_count": 19,
   "id": "b8d59038",
   "metadata": {},
   "outputs": [],
   "source": [
    "def fix_code_after_code_review(state: StateGraph) -> StateGraph:\n",
    "    feedback = \"\\n\\n\".join(state[\"code_review_response\"].feedback)\n",
    "\n",
    "    prompt = config.get_prompt(\n",
    "        \"fix_code_after_code_review\",\n",
    "        original_code=state[\"code\"],\n",
    "        feedback=feedback,\n",
    "    )\n",
    "\n",
    "    fix_code_after_code_review_chain = model | StrOutputParser()\n",
    "    response = fix_code_after_code_review_chain.invoke(prompt)\n",
    "\n",
    "    return {\"code\": response}"
   ]
  },
  {
   "cell_type": "code",
   "execution_count": null,
   "id": "9716abce",
   "metadata": {},
   "outputs": [],
   "source": []
  },
  {
   "cell_type": "code",
   "execution_count": null,
   "id": "9c358920",
   "metadata": {},
   "outputs": [],
   "source": []
  },
  {
   "cell_type": "code",
   "execution_count": 20,
   "id": "186137a6",
   "metadata": {},
   "outputs": [],
   "source": [
    "def design_review_response(state: SDLCState) -> str:\n",
    "    \n",
    "    state_response = state[\"code_review_response\"].status\n",
    "    \n",
    "    if state_response == \"approved\":\n",
    "        return \"approved\"\n",
    "    else:\n",
    "        return \"feedback\"\n",
    "    "
   ]
  },
  {
   "cell_type": "code",
   "execution_count": 21,
   "id": "b64bb7c3",
   "metadata": {},
   "outputs": [],
   "source": [
    "def security_review(state: StateGraph) -> StateGraph:\n",
    "    print(\"Aagya bhai mai security review me\")\n",
    "    return {\"security_review_response\": \"Hello bhai\"}"
   ]
  },
  {
   "cell_type": "code",
   "execution_count": 22,
   "id": "dd159c26",
   "metadata": {},
   "outputs": [],
   "source": [
    "# THIS GRAPH IS USED FOR TESTING\n",
    "\n",
    "graph = StateGraph(SDLCState)\n",
    "\n",
    "graph.add_node(\"auto_generated_user_stories\", auto_generated_user_stories)\n",
    "graph.add_node(\"create_design_docs\", create_design_docs)\n",
    "graph.add_node(\"generate_code\", generate_code)\n",
    "graph.add_node(\"code_review\", code_review)\n",
    "graph.add_node(\"fix_code_after_code_review\", fix_code_after_code_review)\n",
    "graph.add_node(\"security_review\", security_review)\n",
    "\n",
    "graph.add_edge(START, \"auto_generated_user_stories\")\n",
    "graph.add_edge(\"auto_generated_user_stories\", \"create_design_docs\")\n",
    "graph.add_edge(\"create_design_docs\", \"generate_code\")\n",
    "graph.add_edge(\"generate_code\", \"code_review\")\n",
    "graph.add_conditional_edges(\n",
    "    \"code_review\",\n",
    "    design_review_response,\n",
    "    {\"approved\": \"security_review\", \"feedback\": \"fix_code_after_code_review\"},\n",
    ")\n",
    "graph.add_edge(\"security_review\", END)\n",
    "graph.add_edge(\"fix_code_after_code_review\", END)\n",
    "\n",
    "workflow = graph.compile()"
   ]
  },
  {
   "cell_type": "code",
   "execution_count": 23,
   "id": "0c0b3111",
   "metadata": {},
   "outputs": [
    {
     "ename": "BadRequestError",
     "evalue": "Error code: 400 - {'error': {'message': \"tool call validation failed: parameters for tool EvaluatorSchema did not match schema: errors: [missing properties: 'status']\", 'type': 'invalid_request_error', 'code': 'tool_use_failed', 'failed_generation': '<function=EvaluatorSchema> {\"name\": \"EvaluatorSchema\", \"description\": \"Evaluates the provided source code against the design requirements and best practices.\", \"parameters\": {\"properties\": {\"feedback\": {\"anyOf\": [{\"items\": {\"type\": \"string\"}, \"type\": \"array\"}, {\"type\": \"null\"}], \"default\": \"null\"}, \"status\": {\"enum\": [\"approved\", \"feedback\"], \"type\": \"string\"}},\"required\":[\"status\"],\"type\":\"object\"}}</function>\\n\\nfeedback:\\n- In `database.py`, the `SQLALCHEMY_DATABASE_URI` is set to an environment variable `DATABASE_URL`, but it is not checked if it exists before trying to connect to the database.\\n- In `database.py`, the `engine` is created outside of a try/except block, but if the database connection fails, it will raise an exception that is not caught.\\n- In `auth.py`, the `SECRET_KEY` is hardcoded, but it should be stored as an environment variable for security reasons.\\n- In `auth.py`, the `get_token_from_user` function only checks if the `Authorization` header is present, but it does not check if the token is valid.\\n- In `auth.py`, the `get_current_user` function tries to decode the token with the `SECRET_KEY`, but it does not handle the case where the token is invalid or expired.\\n- In `tasks.py`, the `create_task` function does not check if the `due_date` is in the past, which could cause issues with task scheduling.\\n- In `tasks.py`, the `update_task` and `update_priority` functions do not check if the `task_id` exists before trying to update it.\\n- In `auth_routes.py`, the `login` function does not check if the `username` exists before trying to verify the password.\\n- In `auth_routes.py`, the `forgot_password` function does not check if the `email` exists before sending the reset token.\\n- In `main.py`, the `shutdown_event` function closes the database session, but it does not handle any exceptions that might occur during shutdown.\\n- In `models.py`, the `Task` and `User` classes do not handle any exceptions that might occur during database queries.\\n- In `app.py`, the code is almost identical to `main.py`, which suggests that there might be some redundancy that can be removed.'}}",
     "output_type": "error",
     "traceback": [
      "\u001b[31m---------------------------------------------------------------------------\u001b[39m",
      "\u001b[31mBadRequestError\u001b[39m                           Traceback (most recent call last)",
      "\u001b[36mCell\u001b[39m\u001b[36m \u001b[39m\u001b[32mIn[23]\u001b[39m\u001b[32m, line 1\u001b[39m\n\u001b[32m----> \u001b[39m\u001b[32m1\u001b[39m response = \u001b[43mworkflow\u001b[49m\u001b[43m.\u001b[49m\u001b[43minvoke\u001b[49m\u001b[43m(\u001b[49m\n\u001b[32m      2\u001b[39m \u001b[43m    \u001b[49m\u001b[43m{\u001b[49m\n\u001b[32m      3\u001b[39m \u001b[43m        \u001b[49m\u001b[33;43m\"\u001b[39;49m\u001b[33;43muser_input_requirements\u001b[39;49m\u001b[33;43m\"\u001b[39;49m\u001b[43m:\u001b[49m\u001b[43m \u001b[49m\u001b[33;43m\"\"\"\u001b[39;49m\n\u001b[32m      4\u001b[39m \u001b[33;43m        I want to build a task management web application. \u001b[39;49m\n\u001b[32m      5\u001b[39m \u001b[33;43m        Features:\u001b[39;49m\n\u001b[32m      6\u001b[39m \u001b[33;43m        - Users can create, update, and delete tasks.\u001b[39;49m\n\u001b[32m      7\u001b[39m \u001b[33;43m        - Tasks should have priority and due dates.\u001b[39;49m\n\u001b[32m      8\u001b[39m \u001b[33;43m        - A dashboard to track completed vs pending tasks.\u001b[39;49m\n\u001b[32m      9\u001b[39m \u001b[33;43m        - Simple login with email and password.\u001b[39;49m\n\u001b[32m     10\u001b[39m \u001b[33;43m        Tech Stack Preference: Python (FastAPI) for backend, React for frontend.\u001b[39;49m\n\u001b[32m     11\u001b[39m \u001b[33;43m        Deployment: Host on AWS.\u001b[39;49m\n\u001b[32m     12\u001b[39m \u001b[33;43m        \u001b[39;49m\u001b[33;43m\"\"\"\u001b[39;49m\n\u001b[32m     13\u001b[39m \u001b[43m    \u001b[49m\u001b[43m}\u001b[49m\n\u001b[32m     14\u001b[39m \u001b[43m)\u001b[49m\n",
      "\u001b[36mFile \u001b[39m\u001b[32md:\\AI\\Agentic AI Course\\Projects\\SDLC\\.venv\\Lib\\site-packages\\langgraph\\pregel\\main.py:3026\u001b[39m, in \u001b[36mPregel.invoke\u001b[39m\u001b[34m(self, input, config, context, stream_mode, print_mode, output_keys, interrupt_before, interrupt_after, durability, **kwargs)\u001b[39m\n\u001b[32m   3023\u001b[39m chunks: \u001b[38;5;28mlist\u001b[39m[\u001b[38;5;28mdict\u001b[39m[\u001b[38;5;28mstr\u001b[39m, Any] | Any] = []\n\u001b[32m   3024\u001b[39m interrupts: \u001b[38;5;28mlist\u001b[39m[Interrupt] = []\n\u001b[32m-> \u001b[39m\u001b[32m3026\u001b[39m \u001b[43m\u001b[49m\u001b[38;5;28;43;01mfor\u001b[39;49;00m\u001b[43m \u001b[49m\u001b[43mchunk\u001b[49m\u001b[43m \u001b[49m\u001b[38;5;129;43;01min\u001b[39;49;00m\u001b[43m \u001b[49m\u001b[38;5;28;43mself\u001b[39;49m\u001b[43m.\u001b[49m\u001b[43mstream\u001b[49m\u001b[43m(\u001b[49m\n\u001b[32m   3027\u001b[39m \u001b[43m    \u001b[49m\u001b[38;5;28;43minput\u001b[39;49m\u001b[43m,\u001b[49m\n\u001b[32m   3028\u001b[39m \u001b[43m    \u001b[49m\u001b[43mconfig\u001b[49m\u001b[43m,\u001b[49m\n\u001b[32m   3029\u001b[39m \u001b[43m    \u001b[49m\u001b[43mcontext\u001b[49m\u001b[43m=\u001b[49m\u001b[43mcontext\u001b[49m\u001b[43m,\u001b[49m\n\u001b[32m   3030\u001b[39m \u001b[43m    \u001b[49m\u001b[43mstream_mode\u001b[49m\u001b[43m=\u001b[49m\u001b[43m[\u001b[49m\u001b[33;43m\"\u001b[39;49m\u001b[33;43mupdates\u001b[39;49m\u001b[33;43m\"\u001b[39;49m\u001b[43m,\u001b[49m\u001b[43m \u001b[49m\u001b[33;43m\"\u001b[39;49m\u001b[33;43mvalues\u001b[39;49m\u001b[33;43m\"\u001b[39;49m\u001b[43m]\u001b[49m\n\u001b[32m   3031\u001b[39m \u001b[43m    \u001b[49m\u001b[38;5;28;43;01mif\u001b[39;49;00m\u001b[43m \u001b[49m\u001b[43mstream_mode\u001b[49m\u001b[43m \u001b[49m\u001b[43m==\u001b[49m\u001b[43m \u001b[49m\u001b[33;43m\"\u001b[39;49m\u001b[33;43mvalues\u001b[39;49m\u001b[33;43m\"\u001b[39;49m\n\u001b[32m   3032\u001b[39m \u001b[43m    \u001b[49m\u001b[38;5;28;43;01melse\u001b[39;49;00m\u001b[43m \u001b[49m\u001b[43mstream_mode\u001b[49m\u001b[43m,\u001b[49m\n\u001b[32m   3033\u001b[39m \u001b[43m    \u001b[49m\u001b[43mprint_mode\u001b[49m\u001b[43m=\u001b[49m\u001b[43mprint_mode\u001b[49m\u001b[43m,\u001b[49m\n\u001b[32m   3034\u001b[39m \u001b[43m    \u001b[49m\u001b[43moutput_keys\u001b[49m\u001b[43m=\u001b[49m\u001b[43moutput_keys\u001b[49m\u001b[43m,\u001b[49m\n\u001b[32m   3035\u001b[39m \u001b[43m    \u001b[49m\u001b[43minterrupt_before\u001b[49m\u001b[43m=\u001b[49m\u001b[43minterrupt_before\u001b[49m\u001b[43m,\u001b[49m\n\u001b[32m   3036\u001b[39m \u001b[43m    \u001b[49m\u001b[43minterrupt_after\u001b[49m\u001b[43m=\u001b[49m\u001b[43minterrupt_after\u001b[49m\u001b[43m,\u001b[49m\n\u001b[32m   3037\u001b[39m \u001b[43m    \u001b[49m\u001b[43mdurability\u001b[49m\u001b[43m=\u001b[49m\u001b[43mdurability\u001b[49m\u001b[43m,\u001b[49m\n\u001b[32m   3038\u001b[39m \u001b[43m    \u001b[49m\u001b[43m*\u001b[49m\u001b[43m*\u001b[49m\u001b[43mkwargs\u001b[49m\u001b[43m,\u001b[49m\n\u001b[32m   3039\u001b[39m \u001b[43m\u001b[49m\u001b[43m)\u001b[49m\u001b[43m:\u001b[49m\n\u001b[32m   3040\u001b[39m \u001b[43m    \u001b[49m\u001b[38;5;28;43;01mif\u001b[39;49;00m\u001b[43m \u001b[49m\u001b[43mstream_mode\u001b[49m\u001b[43m \u001b[49m\u001b[43m==\u001b[49m\u001b[43m \u001b[49m\u001b[33;43m\"\u001b[39;49m\u001b[33;43mvalues\u001b[39;49m\u001b[33;43m\"\u001b[39;49m\u001b[43m:\u001b[49m\n\u001b[32m   3041\u001b[39m \u001b[43m        \u001b[49m\u001b[38;5;28;43;01mif\u001b[39;49;00m\u001b[43m \u001b[49m\u001b[38;5;28;43mlen\u001b[39;49m\u001b[43m(\u001b[49m\u001b[43mchunk\u001b[49m\u001b[43m)\u001b[49m\u001b[43m \u001b[49m\u001b[43m==\u001b[49m\u001b[43m \u001b[49m\u001b[32;43m2\u001b[39;49m\u001b[43m:\u001b[49m\n",
      "\u001b[36mFile \u001b[39m\u001b[32md:\\AI\\Agentic AI Course\\Projects\\SDLC\\.venv\\Lib\\site-packages\\langgraph\\pregel\\main.py:2647\u001b[39m, in \u001b[36mPregel.stream\u001b[39m\u001b[34m(self, input, config, context, stream_mode, print_mode, output_keys, interrupt_before, interrupt_after, durability, subgraphs, debug, **kwargs)\u001b[39m\n\u001b[32m   2645\u001b[39m \u001b[38;5;28;01mfor\u001b[39;00m task \u001b[38;5;129;01min\u001b[39;00m loop.match_cached_writes():\n\u001b[32m   2646\u001b[39m     loop.output_writes(task.id, task.writes, cached=\u001b[38;5;28;01mTrue\u001b[39;00m)\n\u001b[32m-> \u001b[39m\u001b[32m2647\u001b[39m \u001b[43m\u001b[49m\u001b[38;5;28;43;01mfor\u001b[39;49;00m\u001b[43m \u001b[49m\u001b[43m_\u001b[49m\u001b[43m \u001b[49m\u001b[38;5;129;43;01min\u001b[39;49;00m\u001b[43m \u001b[49m\u001b[43mrunner\u001b[49m\u001b[43m.\u001b[49m\u001b[43mtick\u001b[49m\u001b[43m(\u001b[49m\n\u001b[32m   2648\u001b[39m \u001b[43m    \u001b[49m\u001b[43m[\u001b[49m\u001b[43mt\u001b[49m\u001b[43m \u001b[49m\u001b[38;5;28;43;01mfor\u001b[39;49;00m\u001b[43m \u001b[49m\u001b[43mt\u001b[49m\u001b[43m \u001b[49m\u001b[38;5;129;43;01min\u001b[39;49;00m\u001b[43m \u001b[49m\u001b[43mloop\u001b[49m\u001b[43m.\u001b[49m\u001b[43mtasks\u001b[49m\u001b[43m.\u001b[49m\u001b[43mvalues\u001b[49m\u001b[43m(\u001b[49m\u001b[43m)\u001b[49m\u001b[43m \u001b[49m\u001b[38;5;28;43;01mif\u001b[39;49;00m\u001b[43m \u001b[49m\u001b[38;5;129;43;01mnot\u001b[39;49;00m\u001b[43m \u001b[49m\u001b[43mt\u001b[49m\u001b[43m.\u001b[49m\u001b[43mwrites\u001b[49m\u001b[43m]\u001b[49m\u001b[43m,\u001b[49m\n\u001b[32m   2649\u001b[39m \u001b[43m    \u001b[49m\u001b[43mtimeout\u001b[49m\u001b[43m=\u001b[49m\u001b[38;5;28;43mself\u001b[39;49m\u001b[43m.\u001b[49m\u001b[43mstep_timeout\u001b[49m\u001b[43m,\u001b[49m\n\u001b[32m   2650\u001b[39m \u001b[43m    \u001b[49m\u001b[43mget_waiter\u001b[49m\u001b[43m=\u001b[49m\u001b[43mget_waiter\u001b[49m\u001b[43m,\u001b[49m\n\u001b[32m   2651\u001b[39m \u001b[43m    \u001b[49m\u001b[43mschedule_task\u001b[49m\u001b[43m=\u001b[49m\u001b[43mloop\u001b[49m\u001b[43m.\u001b[49m\u001b[43maccept_push\u001b[49m\u001b[43m,\u001b[49m\n\u001b[32m   2652\u001b[39m \u001b[43m\u001b[49m\u001b[43m)\u001b[49m\u001b[43m:\u001b[49m\n\u001b[32m   2653\u001b[39m \u001b[43m    \u001b[49m\u001b[38;5;66;43;03m# emit output\u001b[39;49;00m\n\u001b[32m   2654\u001b[39m \u001b[43m    \u001b[49m\u001b[38;5;28;43;01myield from\u001b[39;49;00m\u001b[43m \u001b[49m\u001b[43m_output\u001b[49m\u001b[43m(\u001b[49m\n\u001b[32m   2655\u001b[39m \u001b[43m        \u001b[49m\u001b[43mstream_mode\u001b[49m\u001b[43m,\u001b[49m\u001b[43m \u001b[49m\u001b[43mprint_mode\u001b[49m\u001b[43m,\u001b[49m\u001b[43m \u001b[49m\u001b[43msubgraphs\u001b[49m\u001b[43m,\u001b[49m\u001b[43m \u001b[49m\u001b[43mstream\u001b[49m\u001b[43m.\u001b[49m\u001b[43mget\u001b[49m\u001b[43m,\u001b[49m\u001b[43m \u001b[49m\u001b[43mqueue\u001b[49m\u001b[43m.\u001b[49m\u001b[43mEmpty\u001b[49m\n\u001b[32m   2656\u001b[39m \u001b[43m    \u001b[49m\u001b[43m)\u001b[49m\n\u001b[32m   2657\u001b[39m loop.after_tick()\n",
      "\u001b[36mFile \u001b[39m\u001b[32md:\\AI\\Agentic AI Course\\Projects\\SDLC\\.venv\\Lib\\site-packages\\langgraph\\pregel\\_runner.py:162\u001b[39m, in \u001b[36mPregelRunner.tick\u001b[39m\u001b[34m(self, tasks, reraise, timeout, retry_policy, get_waiter, schedule_task)\u001b[39m\n\u001b[32m    160\u001b[39m t = tasks[\u001b[32m0\u001b[39m]\n\u001b[32m    161\u001b[39m \u001b[38;5;28;01mtry\u001b[39;00m:\n\u001b[32m--> \u001b[39m\u001b[32m162\u001b[39m     \u001b[43mrun_with_retry\u001b[49m\u001b[43m(\u001b[49m\n\u001b[32m    163\u001b[39m \u001b[43m        \u001b[49m\u001b[43mt\u001b[49m\u001b[43m,\u001b[49m\n\u001b[32m    164\u001b[39m \u001b[43m        \u001b[49m\u001b[43mretry_policy\u001b[49m\u001b[43m,\u001b[49m\n\u001b[32m    165\u001b[39m \u001b[43m        \u001b[49m\u001b[43mconfigurable\u001b[49m\u001b[43m=\u001b[49m\u001b[43m{\u001b[49m\n\u001b[32m    166\u001b[39m \u001b[43m            \u001b[49m\u001b[43mCONFIG_KEY_CALL\u001b[49m\u001b[43m:\u001b[49m\u001b[43m \u001b[49m\u001b[43mpartial\u001b[49m\u001b[43m(\u001b[49m\n\u001b[32m    167\u001b[39m \u001b[43m                \u001b[49m\u001b[43m_call\u001b[49m\u001b[43m,\u001b[49m\n\u001b[32m    168\u001b[39m \u001b[43m                \u001b[49m\u001b[43mweakref\u001b[49m\u001b[43m.\u001b[49m\u001b[43mref\u001b[49m\u001b[43m(\u001b[49m\u001b[43mt\u001b[49m\u001b[43m)\u001b[49m\u001b[43m,\u001b[49m\n\u001b[32m    169\u001b[39m \u001b[43m                \u001b[49m\u001b[43mretry_policy\u001b[49m\u001b[43m=\u001b[49m\u001b[43mretry_policy\u001b[49m\u001b[43m,\u001b[49m\n\u001b[32m    170\u001b[39m \u001b[43m                \u001b[49m\u001b[43mfutures\u001b[49m\u001b[43m=\u001b[49m\u001b[43mweakref\u001b[49m\u001b[43m.\u001b[49m\u001b[43mref\u001b[49m\u001b[43m(\u001b[49m\u001b[43mfutures\u001b[49m\u001b[43m)\u001b[49m\u001b[43m,\u001b[49m\n\u001b[32m    171\u001b[39m \u001b[43m                \u001b[49m\u001b[43mschedule_task\u001b[49m\u001b[43m=\u001b[49m\u001b[43mschedule_task\u001b[49m\u001b[43m,\u001b[49m\n\u001b[32m    172\u001b[39m \u001b[43m                \u001b[49m\u001b[43msubmit\u001b[49m\u001b[43m=\u001b[49m\u001b[38;5;28;43mself\u001b[39;49m\u001b[43m.\u001b[49m\u001b[43msubmit\u001b[49m\u001b[43m,\u001b[49m\n\u001b[32m    173\u001b[39m \u001b[43m            \u001b[49m\u001b[43m)\u001b[49m\u001b[43m,\u001b[49m\n\u001b[32m    174\u001b[39m \u001b[43m        \u001b[49m\u001b[43m}\u001b[49m\u001b[43m,\u001b[49m\n\u001b[32m    175\u001b[39m \u001b[43m    \u001b[49m\u001b[43m)\u001b[49m\n\u001b[32m    176\u001b[39m     \u001b[38;5;28mself\u001b[39m.commit(t, \u001b[38;5;28;01mNone\u001b[39;00m)\n\u001b[32m    177\u001b[39m \u001b[38;5;28;01mexcept\u001b[39;00m \u001b[38;5;167;01mException\u001b[39;00m \u001b[38;5;28;01mas\u001b[39;00m exc:\n",
      "\u001b[36mFile \u001b[39m\u001b[32md:\\AI\\Agentic AI Course\\Projects\\SDLC\\.venv\\Lib\\site-packages\\langgraph\\pregel\\_retry.py:42\u001b[39m, in \u001b[36mrun_with_retry\u001b[39m\u001b[34m(task, retry_policy, configurable)\u001b[39m\n\u001b[32m     40\u001b[39m     task.writes.clear()\n\u001b[32m     41\u001b[39m     \u001b[38;5;66;03m# run the task\u001b[39;00m\n\u001b[32m---> \u001b[39m\u001b[32m42\u001b[39m     \u001b[38;5;28;01mreturn\u001b[39;00m \u001b[43mtask\u001b[49m\u001b[43m.\u001b[49m\u001b[43mproc\u001b[49m\u001b[43m.\u001b[49m\u001b[43minvoke\u001b[49m\u001b[43m(\u001b[49m\u001b[43mtask\u001b[49m\u001b[43m.\u001b[49m\u001b[43minput\u001b[49m\u001b[43m,\u001b[49m\u001b[43m \u001b[49m\u001b[43mconfig\u001b[49m\u001b[43m)\u001b[49m\n\u001b[32m     43\u001b[39m \u001b[38;5;28;01mexcept\u001b[39;00m ParentCommand \u001b[38;5;28;01mas\u001b[39;00m exc:\n\u001b[32m     44\u001b[39m     ns: \u001b[38;5;28mstr\u001b[39m = config[CONF][CONFIG_KEY_CHECKPOINT_NS]\n",
      "\u001b[36mFile \u001b[39m\u001b[32md:\\AI\\Agentic AI Course\\Projects\\SDLC\\.venv\\Lib\\site-packages\\langgraph\\_internal\\_runnable.py:657\u001b[39m, in \u001b[36mRunnableSeq.invoke\u001b[39m\u001b[34m(self, input, config, **kwargs)\u001b[39m\n\u001b[32m    655\u001b[39m     \u001b[38;5;66;03m# run in context\u001b[39;00m\n\u001b[32m    656\u001b[39m     \u001b[38;5;28;01mwith\u001b[39;00m set_config_context(config, run) \u001b[38;5;28;01mas\u001b[39;00m context:\n\u001b[32m--> \u001b[39m\u001b[32m657\u001b[39m         \u001b[38;5;28minput\u001b[39m = \u001b[43mcontext\u001b[49m\u001b[43m.\u001b[49m\u001b[43mrun\u001b[49m\u001b[43m(\u001b[49m\u001b[43mstep\u001b[49m\u001b[43m.\u001b[49m\u001b[43minvoke\u001b[49m\u001b[43m,\u001b[49m\u001b[43m \u001b[49m\u001b[38;5;28;43minput\u001b[39;49m\u001b[43m,\u001b[49m\u001b[43m \u001b[49m\u001b[43mconfig\u001b[49m\u001b[43m,\u001b[49m\u001b[43m \u001b[49m\u001b[43m*\u001b[49m\u001b[43m*\u001b[49m\u001b[43mkwargs\u001b[49m\u001b[43m)\u001b[49m\n\u001b[32m    658\u001b[39m \u001b[38;5;28;01melse\u001b[39;00m:\n\u001b[32m    659\u001b[39m     \u001b[38;5;28minput\u001b[39m = step.invoke(\u001b[38;5;28minput\u001b[39m, config)\n",
      "\u001b[36mFile \u001b[39m\u001b[32md:\\AI\\Agentic AI Course\\Projects\\SDLC\\.venv\\Lib\\site-packages\\langgraph\\_internal\\_runnable.py:401\u001b[39m, in \u001b[36mRunnableCallable.invoke\u001b[39m\u001b[34m(self, input, config, **kwargs)\u001b[39m\n\u001b[32m    399\u001b[39m         run_manager.on_chain_end(ret)\n\u001b[32m    400\u001b[39m \u001b[38;5;28;01melse\u001b[39;00m:\n\u001b[32m--> \u001b[39m\u001b[32m401\u001b[39m     ret = \u001b[38;5;28;43mself\u001b[39;49m\u001b[43m.\u001b[49m\u001b[43mfunc\u001b[49m\u001b[43m(\u001b[49m\u001b[43m*\u001b[49m\u001b[43margs\u001b[49m\u001b[43m,\u001b[49m\u001b[43m \u001b[49m\u001b[43m*\u001b[49m\u001b[43m*\u001b[49m\u001b[43mkwargs\u001b[49m\u001b[43m)\u001b[49m\n\u001b[32m    402\u001b[39m \u001b[38;5;28;01mif\u001b[39;00m \u001b[38;5;28mself\u001b[39m.recurse \u001b[38;5;129;01mand\u001b[39;00m \u001b[38;5;28misinstance\u001b[39m(ret, Runnable):\n\u001b[32m    403\u001b[39m     \u001b[38;5;28;01mreturn\u001b[39;00m ret.invoke(\u001b[38;5;28minput\u001b[39m, config)\n",
      "\u001b[36mCell\u001b[39m\u001b[36m \u001b[39m\u001b[32mIn[18]\u001b[39m\u001b[32m, line 62\u001b[39m, in \u001b[36mcode_review\u001b[39m\u001b[34m(state)\u001b[39m\n\u001b[32m     58\u001b[39m structured_llm = get_evaluator_schema(model)\n\u001b[32m     60\u001b[39m code_review_chain = prompt_template | structured_llm\n\u001b[32m---> \u001b[39m\u001b[32m62\u001b[39m response = \u001b[43mcode_review_chain\u001b[49m\u001b[43m.\u001b[49m\u001b[43minvoke\u001b[49m\u001b[43m(\u001b[49m\u001b[43m{\u001b[49m\u001b[33;43m\"\u001b[39;49m\u001b[33;43mcode\u001b[39;49m\u001b[33;43m\"\u001b[39;49m\u001b[43m:\u001b[49m\u001b[43m \u001b[49m\u001b[43mstate\u001b[49m\u001b[43m[\u001b[49m\u001b[33;43m\"\u001b[39;49m\u001b[33;43mcode\u001b[39;49m\u001b[33;43m\"\u001b[39;49m\u001b[43m]\u001b[49m\u001b[43m}\u001b[49m\u001b[43m)\u001b[49m\n\u001b[32m     64\u001b[39m \u001b[38;5;28;01mreturn\u001b[39;00m {\u001b[33m\"\u001b[39m\u001b[33mcode_review_response\u001b[39m\u001b[33m\"\u001b[39m: response}\n",
      "\u001b[36mFile \u001b[39m\u001b[32md:\\AI\\Agentic AI Course\\Projects\\SDLC\\.venv\\Lib\\site-packages\\langchain_core\\runnables\\base.py:3082\u001b[39m, in \u001b[36mRunnableSequence.invoke\u001b[39m\u001b[34m(self, input, config, **kwargs)\u001b[39m\n\u001b[32m   3080\u001b[39m                 input_ = context.run(step.invoke, input_, config, **kwargs)\n\u001b[32m   3081\u001b[39m             \u001b[38;5;28;01melse\u001b[39;00m:\n\u001b[32m-> \u001b[39m\u001b[32m3082\u001b[39m                 input_ = \u001b[43mcontext\u001b[49m\u001b[43m.\u001b[49m\u001b[43mrun\u001b[49m\u001b[43m(\u001b[49m\u001b[43mstep\u001b[49m\u001b[43m.\u001b[49m\u001b[43minvoke\u001b[49m\u001b[43m,\u001b[49m\u001b[43m \u001b[49m\u001b[43minput_\u001b[49m\u001b[43m,\u001b[49m\u001b[43m \u001b[49m\u001b[43mconfig\u001b[49m\u001b[43m)\u001b[49m\n\u001b[32m   3083\u001b[39m \u001b[38;5;66;03m# finish the root run\u001b[39;00m\n\u001b[32m   3084\u001b[39m \u001b[38;5;28;01mexcept\u001b[39;00m \u001b[38;5;167;01mBaseException\u001b[39;00m \u001b[38;5;28;01mas\u001b[39;00m e:\n",
      "\u001b[36mFile \u001b[39m\u001b[32md:\\AI\\Agentic AI Course\\Projects\\SDLC\\.venv\\Lib\\site-packages\\langchain_core\\runnables\\base.py:5495\u001b[39m, in \u001b[36mRunnableBindingBase.invoke\u001b[39m\u001b[34m(self, input, config, **kwargs)\u001b[39m\n\u001b[32m   5488\u001b[39m \u001b[38;5;129m@override\u001b[39m\n\u001b[32m   5489\u001b[39m \u001b[38;5;28;01mdef\u001b[39;00m\u001b[38;5;250m \u001b[39m\u001b[34minvoke\u001b[39m(\n\u001b[32m   5490\u001b[39m     \u001b[38;5;28mself\u001b[39m,\n\u001b[32m   (...)\u001b[39m\u001b[32m   5493\u001b[39m     **kwargs: Optional[Any],\n\u001b[32m   5494\u001b[39m ) -> Output:\n\u001b[32m-> \u001b[39m\u001b[32m5495\u001b[39m     \u001b[38;5;28;01mreturn\u001b[39;00m \u001b[38;5;28;43mself\u001b[39;49m\u001b[43m.\u001b[49m\u001b[43mbound\u001b[49m\u001b[43m.\u001b[49m\u001b[43minvoke\u001b[49m\u001b[43m(\u001b[49m\n\u001b[32m   5496\u001b[39m \u001b[43m        \u001b[49m\u001b[38;5;28;43minput\u001b[39;49m\u001b[43m,\u001b[49m\n\u001b[32m   5497\u001b[39m \u001b[43m        \u001b[49m\u001b[38;5;28;43mself\u001b[39;49m\u001b[43m.\u001b[49m\u001b[43m_merge_configs\u001b[49m\u001b[43m(\u001b[49m\u001b[43mconfig\u001b[49m\u001b[43m)\u001b[49m\u001b[43m,\u001b[49m\n\u001b[32m   5498\u001b[39m \u001b[43m        \u001b[49m\u001b[43m*\u001b[49m\u001b[43m*\u001b[49m\u001b[43m{\u001b[49m\u001b[43m*\u001b[49m\u001b[43m*\u001b[49m\u001b[38;5;28;43mself\u001b[39;49m\u001b[43m.\u001b[49m\u001b[43mkwargs\u001b[49m\u001b[43m,\u001b[49m\u001b[43m \u001b[49m\u001b[43m*\u001b[49m\u001b[43m*\u001b[49m\u001b[43mkwargs\u001b[49m\u001b[43m}\u001b[49m\u001b[43m,\u001b[49m\n\u001b[32m   5499\u001b[39m \u001b[43m    \u001b[49m\u001b[43m)\u001b[49m\n",
      "\u001b[36mFile \u001b[39m\u001b[32md:\\AI\\Agentic AI Course\\Projects\\SDLC\\.venv\\Lib\\site-packages\\langchain_core\\language_models\\chat_models.py:393\u001b[39m, in \u001b[36mBaseChatModel.invoke\u001b[39m\u001b[34m(self, input, config, stop, **kwargs)\u001b[39m\n\u001b[32m    381\u001b[39m \u001b[38;5;129m@override\u001b[39m\n\u001b[32m    382\u001b[39m \u001b[38;5;28;01mdef\u001b[39;00m\u001b[38;5;250m \u001b[39m\u001b[34minvoke\u001b[39m(\n\u001b[32m    383\u001b[39m     \u001b[38;5;28mself\u001b[39m,\n\u001b[32m   (...)\u001b[39m\u001b[32m    388\u001b[39m     **kwargs: Any,\n\u001b[32m    389\u001b[39m ) -> BaseMessage:\n\u001b[32m    390\u001b[39m     config = ensure_config(config)\n\u001b[32m    391\u001b[39m     \u001b[38;5;28;01mreturn\u001b[39;00m cast(\n\u001b[32m    392\u001b[39m         \u001b[33m\"\u001b[39m\u001b[33mChatGeneration\u001b[39m\u001b[33m\"\u001b[39m,\n\u001b[32m--> \u001b[39m\u001b[32m393\u001b[39m         \u001b[38;5;28;43mself\u001b[39;49m\u001b[43m.\u001b[49m\u001b[43mgenerate_prompt\u001b[49m\u001b[43m(\u001b[49m\n\u001b[32m    394\u001b[39m \u001b[43m            \u001b[49m\u001b[43m[\u001b[49m\u001b[38;5;28;43mself\u001b[39;49m\u001b[43m.\u001b[49m\u001b[43m_convert_input\u001b[49m\u001b[43m(\u001b[49m\u001b[38;5;28;43minput\u001b[39;49m\u001b[43m)\u001b[49m\u001b[43m]\u001b[49m\u001b[43m,\u001b[49m\n\u001b[32m    395\u001b[39m \u001b[43m            \u001b[49m\u001b[43mstop\u001b[49m\u001b[43m=\u001b[49m\u001b[43mstop\u001b[49m\u001b[43m,\u001b[49m\n\u001b[32m    396\u001b[39m \u001b[43m            \u001b[49m\u001b[43mcallbacks\u001b[49m\u001b[43m=\u001b[49m\u001b[43mconfig\u001b[49m\u001b[43m.\u001b[49m\u001b[43mget\u001b[49m\u001b[43m(\u001b[49m\u001b[33;43m\"\u001b[39;49m\u001b[33;43mcallbacks\u001b[39;49m\u001b[33;43m\"\u001b[39;49m\u001b[43m)\u001b[49m\u001b[43m,\u001b[49m\n\u001b[32m    397\u001b[39m \u001b[43m            \u001b[49m\u001b[43mtags\u001b[49m\u001b[43m=\u001b[49m\u001b[43mconfig\u001b[49m\u001b[43m.\u001b[49m\u001b[43mget\u001b[49m\u001b[43m(\u001b[49m\u001b[33;43m\"\u001b[39;49m\u001b[33;43mtags\u001b[39;49m\u001b[33;43m\"\u001b[39;49m\u001b[43m)\u001b[49m\u001b[43m,\u001b[49m\n\u001b[32m    398\u001b[39m \u001b[43m            \u001b[49m\u001b[43mmetadata\u001b[49m\u001b[43m=\u001b[49m\u001b[43mconfig\u001b[49m\u001b[43m.\u001b[49m\u001b[43mget\u001b[49m\u001b[43m(\u001b[49m\u001b[33;43m\"\u001b[39;49m\u001b[33;43mmetadata\u001b[39;49m\u001b[33;43m\"\u001b[39;49m\u001b[43m)\u001b[49m\u001b[43m,\u001b[49m\n\u001b[32m    399\u001b[39m \u001b[43m            \u001b[49m\u001b[43mrun_name\u001b[49m\u001b[43m=\u001b[49m\u001b[43mconfig\u001b[49m\u001b[43m.\u001b[49m\u001b[43mget\u001b[49m\u001b[43m(\u001b[49m\u001b[33;43m\"\u001b[39;49m\u001b[33;43mrun_name\u001b[39;49m\u001b[33;43m\"\u001b[39;49m\u001b[43m)\u001b[49m\u001b[43m,\u001b[49m\n\u001b[32m    400\u001b[39m \u001b[43m            \u001b[49m\u001b[43mrun_id\u001b[49m\u001b[43m=\u001b[49m\u001b[43mconfig\u001b[49m\u001b[43m.\u001b[49m\u001b[43mpop\u001b[49m\u001b[43m(\u001b[49m\u001b[33;43m\"\u001b[39;49m\u001b[33;43mrun_id\u001b[39;49m\u001b[33;43m\"\u001b[39;49m\u001b[43m,\u001b[49m\u001b[43m \u001b[49m\u001b[38;5;28;43;01mNone\u001b[39;49;00m\u001b[43m)\u001b[49m\u001b[43m,\u001b[49m\n\u001b[32m    401\u001b[39m \u001b[43m            \u001b[49m\u001b[43m*\u001b[49m\u001b[43m*\u001b[49m\u001b[43mkwargs\u001b[49m\u001b[43m,\u001b[49m\n\u001b[32m    402\u001b[39m \u001b[43m        \u001b[49m\u001b[43m)\u001b[49m.generations[\u001b[32m0\u001b[39m][\u001b[32m0\u001b[39m],\n\u001b[32m    403\u001b[39m     ).message\n",
      "\u001b[36mFile \u001b[39m\u001b[32md:\\AI\\Agentic AI Course\\Projects\\SDLC\\.venv\\Lib\\site-packages\\langchain_core\\language_models\\chat_models.py:1019\u001b[39m, in \u001b[36mBaseChatModel.generate_prompt\u001b[39m\u001b[34m(self, prompts, stop, callbacks, **kwargs)\u001b[39m\n\u001b[32m   1010\u001b[39m \u001b[38;5;129m@override\u001b[39m\n\u001b[32m   1011\u001b[39m \u001b[38;5;28;01mdef\u001b[39;00m\u001b[38;5;250m \u001b[39m\u001b[34mgenerate_prompt\u001b[39m(\n\u001b[32m   1012\u001b[39m     \u001b[38;5;28mself\u001b[39m,\n\u001b[32m   (...)\u001b[39m\u001b[32m   1016\u001b[39m     **kwargs: Any,\n\u001b[32m   1017\u001b[39m ) -> LLMResult:\n\u001b[32m   1018\u001b[39m     prompt_messages = [p.to_messages() \u001b[38;5;28;01mfor\u001b[39;00m p \u001b[38;5;129;01min\u001b[39;00m prompts]\n\u001b[32m-> \u001b[39m\u001b[32m1019\u001b[39m     \u001b[38;5;28;01mreturn\u001b[39;00m \u001b[38;5;28;43mself\u001b[39;49m\u001b[43m.\u001b[49m\u001b[43mgenerate\u001b[49m\u001b[43m(\u001b[49m\u001b[43mprompt_messages\u001b[49m\u001b[43m,\u001b[49m\u001b[43m \u001b[49m\u001b[43mstop\u001b[49m\u001b[43m=\u001b[49m\u001b[43mstop\u001b[49m\u001b[43m,\u001b[49m\u001b[43m \u001b[49m\u001b[43mcallbacks\u001b[49m\u001b[43m=\u001b[49m\u001b[43mcallbacks\u001b[49m\u001b[43m,\u001b[49m\u001b[43m \u001b[49m\u001b[43m*\u001b[49m\u001b[43m*\u001b[49m\u001b[43mkwargs\u001b[49m\u001b[43m)\u001b[49m\n",
      "\u001b[36mFile \u001b[39m\u001b[32md:\\AI\\Agentic AI Course\\Projects\\SDLC\\.venv\\Lib\\site-packages\\langchain_core\\language_models\\chat_models.py:837\u001b[39m, in \u001b[36mBaseChatModel.generate\u001b[39m\u001b[34m(self, messages, stop, callbacks, tags, metadata, run_name, run_id, **kwargs)\u001b[39m\n\u001b[32m    834\u001b[39m \u001b[38;5;28;01mfor\u001b[39;00m i, m \u001b[38;5;129;01min\u001b[39;00m \u001b[38;5;28menumerate\u001b[39m(input_messages):\n\u001b[32m    835\u001b[39m     \u001b[38;5;28;01mtry\u001b[39;00m:\n\u001b[32m    836\u001b[39m         results.append(\n\u001b[32m--> \u001b[39m\u001b[32m837\u001b[39m             \u001b[38;5;28;43mself\u001b[39;49m\u001b[43m.\u001b[49m\u001b[43m_generate_with_cache\u001b[49m\u001b[43m(\u001b[49m\n\u001b[32m    838\u001b[39m \u001b[43m                \u001b[49m\u001b[43mm\u001b[49m\u001b[43m,\u001b[49m\n\u001b[32m    839\u001b[39m \u001b[43m                \u001b[49m\u001b[43mstop\u001b[49m\u001b[43m=\u001b[49m\u001b[43mstop\u001b[49m\u001b[43m,\u001b[49m\n\u001b[32m    840\u001b[39m \u001b[43m                \u001b[49m\u001b[43mrun_manager\u001b[49m\u001b[43m=\u001b[49m\u001b[43mrun_managers\u001b[49m\u001b[43m[\u001b[49m\u001b[43mi\u001b[49m\u001b[43m]\u001b[49m\u001b[43m \u001b[49m\u001b[38;5;28;43;01mif\u001b[39;49;00m\u001b[43m \u001b[49m\u001b[43mrun_managers\u001b[49m\u001b[43m \u001b[49m\u001b[38;5;28;43;01melse\u001b[39;49;00m\u001b[43m \u001b[49m\u001b[38;5;28;43;01mNone\u001b[39;49;00m\u001b[43m,\u001b[49m\n\u001b[32m    841\u001b[39m \u001b[43m                \u001b[49m\u001b[43m*\u001b[49m\u001b[43m*\u001b[49m\u001b[43mkwargs\u001b[49m\u001b[43m,\u001b[49m\n\u001b[32m    842\u001b[39m \u001b[43m            \u001b[49m\u001b[43m)\u001b[49m\n\u001b[32m    843\u001b[39m         )\n\u001b[32m    844\u001b[39m     \u001b[38;5;28;01mexcept\u001b[39;00m \u001b[38;5;167;01mBaseException\u001b[39;00m \u001b[38;5;28;01mas\u001b[39;00m e:\n\u001b[32m    845\u001b[39m         \u001b[38;5;28;01mif\u001b[39;00m run_managers:\n",
      "\u001b[36mFile \u001b[39m\u001b[32md:\\AI\\Agentic AI Course\\Projects\\SDLC\\.venv\\Lib\\site-packages\\langchain_core\\language_models\\chat_models.py:1085\u001b[39m, in \u001b[36mBaseChatModel._generate_with_cache\u001b[39m\u001b[34m(self, messages, stop, run_manager, **kwargs)\u001b[39m\n\u001b[32m   1083\u001b[39m     result = generate_from_stream(\u001b[38;5;28miter\u001b[39m(chunks))\n\u001b[32m   1084\u001b[39m \u001b[38;5;28;01melif\u001b[39;00m inspect.signature(\u001b[38;5;28mself\u001b[39m._generate).parameters.get(\u001b[33m\"\u001b[39m\u001b[33mrun_manager\u001b[39m\u001b[33m\"\u001b[39m):\n\u001b[32m-> \u001b[39m\u001b[32m1085\u001b[39m     result = \u001b[38;5;28;43mself\u001b[39;49m\u001b[43m.\u001b[49m\u001b[43m_generate\u001b[49m\u001b[43m(\u001b[49m\n\u001b[32m   1086\u001b[39m \u001b[43m        \u001b[49m\u001b[43mmessages\u001b[49m\u001b[43m,\u001b[49m\u001b[43m \u001b[49m\u001b[43mstop\u001b[49m\u001b[43m=\u001b[49m\u001b[43mstop\u001b[49m\u001b[43m,\u001b[49m\u001b[43m \u001b[49m\u001b[43mrun_manager\u001b[49m\u001b[43m=\u001b[49m\u001b[43mrun_manager\u001b[49m\u001b[43m,\u001b[49m\u001b[43m \u001b[49m\u001b[43m*\u001b[49m\u001b[43m*\u001b[49m\u001b[43mkwargs\u001b[49m\n\u001b[32m   1087\u001b[39m \u001b[43m    \u001b[49m\u001b[43m)\u001b[49m\n\u001b[32m   1088\u001b[39m \u001b[38;5;28;01melse\u001b[39;00m:\n\u001b[32m   1089\u001b[39m     result = \u001b[38;5;28mself\u001b[39m._generate(messages, stop=stop, **kwargs)\n",
      "\u001b[36mFile \u001b[39m\u001b[32md:\\AI\\Agentic AI Course\\Projects\\SDLC\\.venv\\Lib\\site-packages\\langchain_groq\\chat_models.py:527\u001b[39m, in \u001b[36mChatGroq._generate\u001b[39m\u001b[34m(self, messages, stop, run_manager, **kwargs)\u001b[39m\n\u001b[32m    522\u001b[39m message_dicts, params = \u001b[38;5;28mself\u001b[39m._create_message_dicts(messages, stop)\n\u001b[32m    523\u001b[39m params = {\n\u001b[32m    524\u001b[39m     **params,\n\u001b[32m    525\u001b[39m     **kwargs,\n\u001b[32m    526\u001b[39m }\n\u001b[32m--> \u001b[39m\u001b[32m527\u001b[39m response = \u001b[38;5;28;43mself\u001b[39;49m\u001b[43m.\u001b[49m\u001b[43mclient\u001b[49m\u001b[43m.\u001b[49m\u001b[43mcreate\u001b[49m\u001b[43m(\u001b[49m\u001b[43mmessages\u001b[49m\u001b[43m=\u001b[49m\u001b[43mmessage_dicts\u001b[49m\u001b[43m,\u001b[49m\u001b[43m \u001b[49m\u001b[43m*\u001b[49m\u001b[43m*\u001b[49m\u001b[43mparams\u001b[49m\u001b[43m)\u001b[49m\n\u001b[32m    528\u001b[39m \u001b[38;5;28;01mreturn\u001b[39;00m \u001b[38;5;28mself\u001b[39m._create_chat_result(response, params)\n",
      "\u001b[36mFile \u001b[39m\u001b[32md:\\AI\\Agentic AI Course\\Projects\\SDLC\\.venv\\Lib\\site-packages\\groq\\resources\\chat\\completions.py:378\u001b[39m, in \u001b[36mCompletions.create\u001b[39m\u001b[34m(self, messages, model, exclude_domains, frequency_penalty, function_call, functions, include_domains, include_reasoning, logit_bias, logprobs, max_completion_tokens, max_tokens, metadata, n, parallel_tool_calls, presence_penalty, reasoning_effort, reasoning_format, response_format, search_settings, seed, service_tier, stop, store, stream, temperature, tool_choice, tools, top_logprobs, top_p, user, extra_headers, extra_query, extra_body, timeout)\u001b[39m\n\u001b[32m    184\u001b[39m \u001b[38;5;28;01mdef\u001b[39;00m\u001b[38;5;250m \u001b[39m\u001b[34mcreate\u001b[39m(\n\u001b[32m    185\u001b[39m     \u001b[38;5;28mself\u001b[39m,\n\u001b[32m    186\u001b[39m     *,\n\u001b[32m   (...)\u001b[39m\u001b[32m    233\u001b[39m     timeout: \u001b[38;5;28mfloat\u001b[39m | httpx.Timeout | \u001b[38;5;28;01mNone\u001b[39;00m | NotGiven = NOT_GIVEN,\n\u001b[32m    234\u001b[39m ) -> ChatCompletion | Stream[ChatCompletionChunk]:\n\u001b[32m    235\u001b[39m \u001b[38;5;250m    \u001b[39m\u001b[33;03m\"\"\"\u001b[39;00m\n\u001b[32m    236\u001b[39m \u001b[33;03m    Creates a model response for the given chat conversation.\u001b[39;00m\n\u001b[32m    237\u001b[39m \n\u001b[32m   (...)\u001b[39m\u001b[32m    376\u001b[39m \u001b[33;03m      timeout: Override the client-level default timeout for this request, in seconds\u001b[39;00m\n\u001b[32m    377\u001b[39m \u001b[33;03m    \"\"\"\u001b[39;00m\n\u001b[32m--> \u001b[39m\u001b[32m378\u001b[39m     \u001b[38;5;28;01mreturn\u001b[39;00m \u001b[38;5;28;43mself\u001b[39;49m\u001b[43m.\u001b[49m\u001b[43m_post\u001b[49m\u001b[43m(\u001b[49m\n\u001b[32m    379\u001b[39m \u001b[43m        \u001b[49m\u001b[33;43m\"\u001b[39;49m\u001b[33;43m/openai/v1/chat/completions\u001b[39;49m\u001b[33;43m\"\u001b[39;49m\u001b[43m,\u001b[49m\n\u001b[32m    380\u001b[39m \u001b[43m        \u001b[49m\u001b[43mbody\u001b[49m\u001b[43m=\u001b[49m\u001b[43mmaybe_transform\u001b[49m\u001b[43m(\u001b[49m\n\u001b[32m    381\u001b[39m \u001b[43m            \u001b[49m\u001b[43m{\u001b[49m\n\u001b[32m    382\u001b[39m \u001b[43m                \u001b[49m\u001b[33;43m\"\u001b[39;49m\u001b[33;43mmessages\u001b[39;49m\u001b[33;43m\"\u001b[39;49m\u001b[43m:\u001b[49m\u001b[43m \u001b[49m\u001b[43mmessages\u001b[49m\u001b[43m,\u001b[49m\n\u001b[32m    383\u001b[39m \u001b[43m                \u001b[49m\u001b[33;43m\"\u001b[39;49m\u001b[33;43mmodel\u001b[39;49m\u001b[33;43m\"\u001b[39;49m\u001b[43m:\u001b[49m\u001b[43m \u001b[49m\u001b[43mmodel\u001b[49m\u001b[43m,\u001b[49m\n\u001b[32m    384\u001b[39m \u001b[43m                \u001b[49m\u001b[33;43m\"\u001b[39;49m\u001b[33;43mexclude_domains\u001b[39;49m\u001b[33;43m\"\u001b[39;49m\u001b[43m:\u001b[49m\u001b[43m \u001b[49m\u001b[43mexclude_domains\u001b[49m\u001b[43m,\u001b[49m\n\u001b[32m    385\u001b[39m \u001b[43m                \u001b[49m\u001b[33;43m\"\u001b[39;49m\u001b[33;43mfrequency_penalty\u001b[39;49m\u001b[33;43m\"\u001b[39;49m\u001b[43m:\u001b[49m\u001b[43m \u001b[49m\u001b[43mfrequency_penalty\u001b[49m\u001b[43m,\u001b[49m\n\u001b[32m    386\u001b[39m \u001b[43m                \u001b[49m\u001b[33;43m\"\u001b[39;49m\u001b[33;43mfunction_call\u001b[39;49m\u001b[33;43m\"\u001b[39;49m\u001b[43m:\u001b[49m\u001b[43m \u001b[49m\u001b[43mfunction_call\u001b[49m\u001b[43m,\u001b[49m\n\u001b[32m    387\u001b[39m \u001b[43m                \u001b[49m\u001b[33;43m\"\u001b[39;49m\u001b[33;43mfunctions\u001b[39;49m\u001b[33;43m\"\u001b[39;49m\u001b[43m:\u001b[49m\u001b[43m \u001b[49m\u001b[43mfunctions\u001b[49m\u001b[43m,\u001b[49m\n\u001b[32m    388\u001b[39m \u001b[43m                \u001b[49m\u001b[33;43m\"\u001b[39;49m\u001b[33;43minclude_domains\u001b[39;49m\u001b[33;43m\"\u001b[39;49m\u001b[43m:\u001b[49m\u001b[43m \u001b[49m\u001b[43minclude_domains\u001b[49m\u001b[43m,\u001b[49m\n\u001b[32m    389\u001b[39m \u001b[43m                \u001b[49m\u001b[33;43m\"\u001b[39;49m\u001b[33;43minclude_reasoning\u001b[39;49m\u001b[33;43m\"\u001b[39;49m\u001b[43m:\u001b[49m\u001b[43m \u001b[49m\u001b[43minclude_reasoning\u001b[49m\u001b[43m,\u001b[49m\n\u001b[32m    390\u001b[39m \u001b[43m                \u001b[49m\u001b[33;43m\"\u001b[39;49m\u001b[33;43mlogit_bias\u001b[39;49m\u001b[33;43m\"\u001b[39;49m\u001b[43m:\u001b[49m\u001b[43m \u001b[49m\u001b[43mlogit_bias\u001b[49m\u001b[43m,\u001b[49m\n\u001b[32m    391\u001b[39m \u001b[43m                \u001b[49m\u001b[33;43m\"\u001b[39;49m\u001b[33;43mlogprobs\u001b[39;49m\u001b[33;43m\"\u001b[39;49m\u001b[43m:\u001b[49m\u001b[43m \u001b[49m\u001b[43mlogprobs\u001b[49m\u001b[43m,\u001b[49m\n\u001b[32m    392\u001b[39m \u001b[43m                \u001b[49m\u001b[33;43m\"\u001b[39;49m\u001b[33;43mmax_completion_tokens\u001b[39;49m\u001b[33;43m\"\u001b[39;49m\u001b[43m:\u001b[49m\u001b[43m \u001b[49m\u001b[43mmax_completion_tokens\u001b[49m\u001b[43m,\u001b[49m\n\u001b[32m    393\u001b[39m \u001b[43m                \u001b[49m\u001b[33;43m\"\u001b[39;49m\u001b[33;43mmax_tokens\u001b[39;49m\u001b[33;43m\"\u001b[39;49m\u001b[43m:\u001b[49m\u001b[43m \u001b[49m\u001b[43mmax_tokens\u001b[49m\u001b[43m,\u001b[49m\n\u001b[32m    394\u001b[39m \u001b[43m                \u001b[49m\u001b[33;43m\"\u001b[39;49m\u001b[33;43mmetadata\u001b[39;49m\u001b[33;43m\"\u001b[39;49m\u001b[43m:\u001b[49m\u001b[43m \u001b[49m\u001b[43mmetadata\u001b[49m\u001b[43m,\u001b[49m\n\u001b[32m    395\u001b[39m \u001b[43m                \u001b[49m\u001b[33;43m\"\u001b[39;49m\u001b[33;43mn\u001b[39;49m\u001b[33;43m\"\u001b[39;49m\u001b[43m:\u001b[49m\u001b[43m \u001b[49m\u001b[43mn\u001b[49m\u001b[43m,\u001b[49m\n\u001b[32m    396\u001b[39m \u001b[43m                \u001b[49m\u001b[33;43m\"\u001b[39;49m\u001b[33;43mparallel_tool_calls\u001b[39;49m\u001b[33;43m\"\u001b[39;49m\u001b[43m:\u001b[49m\u001b[43m \u001b[49m\u001b[43mparallel_tool_calls\u001b[49m\u001b[43m,\u001b[49m\n\u001b[32m    397\u001b[39m \u001b[43m                \u001b[49m\u001b[33;43m\"\u001b[39;49m\u001b[33;43mpresence_penalty\u001b[39;49m\u001b[33;43m\"\u001b[39;49m\u001b[43m:\u001b[49m\u001b[43m \u001b[49m\u001b[43mpresence_penalty\u001b[49m\u001b[43m,\u001b[49m\n\u001b[32m    398\u001b[39m \u001b[43m                \u001b[49m\u001b[33;43m\"\u001b[39;49m\u001b[33;43mreasoning_effort\u001b[39;49m\u001b[33;43m\"\u001b[39;49m\u001b[43m:\u001b[49m\u001b[43m \u001b[49m\u001b[43mreasoning_effort\u001b[49m\u001b[43m,\u001b[49m\n\u001b[32m    399\u001b[39m \u001b[43m                \u001b[49m\u001b[33;43m\"\u001b[39;49m\u001b[33;43mreasoning_format\u001b[39;49m\u001b[33;43m\"\u001b[39;49m\u001b[43m:\u001b[49m\u001b[43m \u001b[49m\u001b[43mreasoning_format\u001b[49m\u001b[43m,\u001b[49m\n\u001b[32m    400\u001b[39m \u001b[43m                \u001b[49m\u001b[33;43m\"\u001b[39;49m\u001b[33;43mresponse_format\u001b[39;49m\u001b[33;43m\"\u001b[39;49m\u001b[43m:\u001b[49m\u001b[43m \u001b[49m\u001b[43mresponse_format\u001b[49m\u001b[43m,\u001b[49m\n\u001b[32m    401\u001b[39m \u001b[43m                \u001b[49m\u001b[33;43m\"\u001b[39;49m\u001b[33;43msearch_settings\u001b[39;49m\u001b[33;43m\"\u001b[39;49m\u001b[43m:\u001b[49m\u001b[43m \u001b[49m\u001b[43msearch_settings\u001b[49m\u001b[43m,\u001b[49m\n\u001b[32m    402\u001b[39m \u001b[43m                \u001b[49m\u001b[33;43m\"\u001b[39;49m\u001b[33;43mseed\u001b[39;49m\u001b[33;43m\"\u001b[39;49m\u001b[43m:\u001b[49m\u001b[43m \u001b[49m\u001b[43mseed\u001b[49m\u001b[43m,\u001b[49m\n\u001b[32m    403\u001b[39m \u001b[43m                \u001b[49m\u001b[33;43m\"\u001b[39;49m\u001b[33;43mservice_tier\u001b[39;49m\u001b[33;43m\"\u001b[39;49m\u001b[43m:\u001b[49m\u001b[43m \u001b[49m\u001b[43mservice_tier\u001b[49m\u001b[43m,\u001b[49m\n\u001b[32m    404\u001b[39m \u001b[43m                \u001b[49m\u001b[33;43m\"\u001b[39;49m\u001b[33;43mstop\u001b[39;49m\u001b[33;43m\"\u001b[39;49m\u001b[43m:\u001b[49m\u001b[43m \u001b[49m\u001b[43mstop\u001b[49m\u001b[43m,\u001b[49m\n\u001b[32m    405\u001b[39m \u001b[43m                \u001b[49m\u001b[33;43m\"\u001b[39;49m\u001b[33;43mstore\u001b[39;49m\u001b[33;43m\"\u001b[39;49m\u001b[43m:\u001b[49m\u001b[43m \u001b[49m\u001b[43mstore\u001b[49m\u001b[43m,\u001b[49m\n\u001b[32m    406\u001b[39m \u001b[43m                \u001b[49m\u001b[33;43m\"\u001b[39;49m\u001b[33;43mstream\u001b[39;49m\u001b[33;43m\"\u001b[39;49m\u001b[43m:\u001b[49m\u001b[43m \u001b[49m\u001b[43mstream\u001b[49m\u001b[43m,\u001b[49m\n\u001b[32m    407\u001b[39m \u001b[43m                \u001b[49m\u001b[33;43m\"\u001b[39;49m\u001b[33;43mtemperature\u001b[39;49m\u001b[33;43m\"\u001b[39;49m\u001b[43m:\u001b[49m\u001b[43m \u001b[49m\u001b[43mtemperature\u001b[49m\u001b[43m,\u001b[49m\n\u001b[32m    408\u001b[39m \u001b[43m                \u001b[49m\u001b[33;43m\"\u001b[39;49m\u001b[33;43mtool_choice\u001b[39;49m\u001b[33;43m\"\u001b[39;49m\u001b[43m:\u001b[49m\u001b[43m \u001b[49m\u001b[43mtool_choice\u001b[49m\u001b[43m,\u001b[49m\n\u001b[32m    409\u001b[39m \u001b[43m                \u001b[49m\u001b[33;43m\"\u001b[39;49m\u001b[33;43mtools\u001b[39;49m\u001b[33;43m\"\u001b[39;49m\u001b[43m:\u001b[49m\u001b[43m \u001b[49m\u001b[43mtools\u001b[49m\u001b[43m,\u001b[49m\n\u001b[32m    410\u001b[39m \u001b[43m                \u001b[49m\u001b[33;43m\"\u001b[39;49m\u001b[33;43mtop_logprobs\u001b[39;49m\u001b[33;43m\"\u001b[39;49m\u001b[43m:\u001b[49m\u001b[43m \u001b[49m\u001b[43mtop_logprobs\u001b[49m\u001b[43m,\u001b[49m\n\u001b[32m    411\u001b[39m \u001b[43m                \u001b[49m\u001b[33;43m\"\u001b[39;49m\u001b[33;43mtop_p\u001b[39;49m\u001b[33;43m\"\u001b[39;49m\u001b[43m:\u001b[49m\u001b[43m \u001b[49m\u001b[43mtop_p\u001b[49m\u001b[43m,\u001b[49m\n\u001b[32m    412\u001b[39m \u001b[43m                \u001b[49m\u001b[33;43m\"\u001b[39;49m\u001b[33;43muser\u001b[39;49m\u001b[33;43m\"\u001b[39;49m\u001b[43m:\u001b[49m\u001b[43m \u001b[49m\u001b[43muser\u001b[49m\u001b[43m,\u001b[49m\n\u001b[32m    413\u001b[39m \u001b[43m            \u001b[49m\u001b[43m}\u001b[49m\u001b[43m,\u001b[49m\n\u001b[32m    414\u001b[39m \u001b[43m            \u001b[49m\u001b[43mcompletion_create_params\u001b[49m\u001b[43m.\u001b[49m\u001b[43mCompletionCreateParams\u001b[49m\u001b[43m,\u001b[49m\n\u001b[32m    415\u001b[39m \u001b[43m        \u001b[49m\u001b[43m)\u001b[49m\u001b[43m,\u001b[49m\n\u001b[32m    416\u001b[39m \u001b[43m        \u001b[49m\u001b[43moptions\u001b[49m\u001b[43m=\u001b[49m\u001b[43mmake_request_options\u001b[49m\u001b[43m(\u001b[49m\n\u001b[32m    417\u001b[39m \u001b[43m            \u001b[49m\u001b[43mextra_headers\u001b[49m\u001b[43m=\u001b[49m\u001b[43mextra_headers\u001b[49m\u001b[43m,\u001b[49m\u001b[43m \u001b[49m\u001b[43mextra_query\u001b[49m\u001b[43m=\u001b[49m\u001b[43mextra_query\u001b[49m\u001b[43m,\u001b[49m\u001b[43m \u001b[49m\u001b[43mextra_body\u001b[49m\u001b[43m=\u001b[49m\u001b[43mextra_body\u001b[49m\u001b[43m,\u001b[49m\u001b[43m \u001b[49m\u001b[43mtimeout\u001b[49m\u001b[43m=\u001b[49m\u001b[43mtimeout\u001b[49m\n\u001b[32m    418\u001b[39m \u001b[43m        \u001b[49m\u001b[43m)\u001b[49m\u001b[43m,\u001b[49m\n\u001b[32m    419\u001b[39m \u001b[43m        \u001b[49m\u001b[43mcast_to\u001b[49m\u001b[43m=\u001b[49m\u001b[43mChatCompletion\u001b[49m\u001b[43m,\u001b[49m\n\u001b[32m    420\u001b[39m \u001b[43m        \u001b[49m\u001b[43mstream\u001b[49m\u001b[43m=\u001b[49m\u001b[43mstream\u001b[49m\u001b[43m \u001b[49m\u001b[38;5;129;43;01mor\u001b[39;49;00m\u001b[43m \u001b[49m\u001b[38;5;28;43;01mFalse\u001b[39;49;00m\u001b[43m,\u001b[49m\n\u001b[32m    421\u001b[39m \u001b[43m        \u001b[49m\u001b[43mstream_cls\u001b[49m\u001b[43m=\u001b[49m\u001b[43mStream\u001b[49m\u001b[43m[\u001b[49m\u001b[43mChatCompletionChunk\u001b[49m\u001b[43m]\u001b[49m\u001b[43m,\u001b[49m\n\u001b[32m    422\u001b[39m \u001b[43m    \u001b[49m\u001b[43m)\u001b[49m\n",
      "\u001b[36mFile \u001b[39m\u001b[32md:\\AI\\Agentic AI Course\\Projects\\SDLC\\.venv\\Lib\\site-packages\\groq\\_base_client.py:1242\u001b[39m, in \u001b[36mSyncAPIClient.post\u001b[39m\u001b[34m(self, path, cast_to, body, options, files, stream, stream_cls)\u001b[39m\n\u001b[32m   1228\u001b[39m \u001b[38;5;28;01mdef\u001b[39;00m\u001b[38;5;250m \u001b[39m\u001b[34mpost\u001b[39m(\n\u001b[32m   1229\u001b[39m     \u001b[38;5;28mself\u001b[39m,\n\u001b[32m   1230\u001b[39m     path: \u001b[38;5;28mstr\u001b[39m,\n\u001b[32m   (...)\u001b[39m\u001b[32m   1237\u001b[39m     stream_cls: \u001b[38;5;28mtype\u001b[39m[_StreamT] | \u001b[38;5;28;01mNone\u001b[39;00m = \u001b[38;5;28;01mNone\u001b[39;00m,\n\u001b[32m   1238\u001b[39m ) -> ResponseT | _StreamT:\n\u001b[32m   1239\u001b[39m     opts = FinalRequestOptions.construct(\n\u001b[32m   1240\u001b[39m         method=\u001b[33m\"\u001b[39m\u001b[33mpost\u001b[39m\u001b[33m\"\u001b[39m, url=path, json_data=body, files=to_httpx_files(files), **options\n\u001b[32m   1241\u001b[39m     )\n\u001b[32m-> \u001b[39m\u001b[32m1242\u001b[39m     \u001b[38;5;28;01mreturn\u001b[39;00m cast(ResponseT, \u001b[38;5;28;43mself\u001b[39;49m\u001b[43m.\u001b[49m\u001b[43mrequest\u001b[49m\u001b[43m(\u001b[49m\u001b[43mcast_to\u001b[49m\u001b[43m,\u001b[49m\u001b[43m \u001b[49m\u001b[43mopts\u001b[49m\u001b[43m,\u001b[49m\u001b[43m \u001b[49m\u001b[43mstream\u001b[49m\u001b[43m=\u001b[49m\u001b[43mstream\u001b[49m\u001b[43m,\u001b[49m\u001b[43m \u001b[49m\u001b[43mstream_cls\u001b[49m\u001b[43m=\u001b[49m\u001b[43mstream_cls\u001b[49m\u001b[43m)\u001b[49m)\n",
      "\u001b[36mFile \u001b[39m\u001b[32md:\\AI\\Agentic AI Course\\Projects\\SDLC\\.venv\\Lib\\site-packages\\groq\\_base_client.py:1044\u001b[39m, in \u001b[36mSyncAPIClient.request\u001b[39m\u001b[34m(self, cast_to, options, stream, stream_cls)\u001b[39m\n\u001b[32m   1041\u001b[39m             err.response.read()\n\u001b[32m   1043\u001b[39m         log.debug(\u001b[33m\"\u001b[39m\u001b[33mRe-raising status error\u001b[39m\u001b[33m\"\u001b[39m)\n\u001b[32m-> \u001b[39m\u001b[32m1044\u001b[39m         \u001b[38;5;28;01mraise\u001b[39;00m \u001b[38;5;28mself\u001b[39m._make_status_error_from_response(err.response) \u001b[38;5;28;01mfrom\u001b[39;00m\u001b[38;5;250m \u001b[39m\u001b[38;5;28;01mNone\u001b[39;00m\n\u001b[32m   1046\u001b[39m     \u001b[38;5;28;01mbreak\u001b[39;00m\n\u001b[32m   1048\u001b[39m \u001b[38;5;28;01massert\u001b[39;00m response \u001b[38;5;129;01mis\u001b[39;00m \u001b[38;5;129;01mnot\u001b[39;00m \u001b[38;5;28;01mNone\u001b[39;00m, \u001b[33m\"\u001b[39m\u001b[33mcould not resolve response (should never happen)\u001b[39m\u001b[33m\"\u001b[39m\n",
      "\u001b[31mBadRequestError\u001b[39m: Error code: 400 - {'error': {'message': \"tool call validation failed: parameters for tool EvaluatorSchema did not match schema: errors: [missing properties: 'status']\", 'type': 'invalid_request_error', 'code': 'tool_use_failed', 'failed_generation': '<function=EvaluatorSchema> {\"name\": \"EvaluatorSchema\", \"description\": \"Evaluates the provided source code against the design requirements and best practices.\", \"parameters\": {\"properties\": {\"feedback\": {\"anyOf\": [{\"items\": {\"type\": \"string\"}, \"type\": \"array\"}, {\"type\": \"null\"}], \"default\": \"null\"}, \"status\": {\"enum\": [\"approved\", \"feedback\"], \"type\": \"string\"}},\"required\":[\"status\"],\"type\":\"object\"}}</function>\\n\\nfeedback:\\n- In `database.py`, the `SQLALCHEMY_DATABASE_URI` is set to an environment variable `DATABASE_URL`, but it is not checked if it exists before trying to connect to the database.\\n- In `database.py`, the `engine` is created outside of a try/except block, but if the database connection fails, it will raise an exception that is not caught.\\n- In `auth.py`, the `SECRET_KEY` is hardcoded, but it should be stored as an environment variable for security reasons.\\n- In `auth.py`, the `get_token_from_user` function only checks if the `Authorization` header is present, but it does not check if the token is valid.\\n- In `auth.py`, the `get_current_user` function tries to decode the token with the `SECRET_KEY`, but it does not handle the case where the token is invalid or expired.\\n- In `tasks.py`, the `create_task` function does not check if the `due_date` is in the past, which could cause issues with task scheduling.\\n- In `tasks.py`, the `update_task` and `update_priority` functions do not check if the `task_id` exists before trying to update it.\\n- In `auth_routes.py`, the `login` function does not check if the `username` exists before trying to verify the password.\\n- In `auth_routes.py`, the `forgot_password` function does not check if the `email` exists before sending the reset token.\\n- In `main.py`, the `shutdown_event` function closes the database session, but it does not handle any exceptions that might occur during shutdown.\\n- In `models.py`, the `Task` and `User` classes do not handle any exceptions that might occur during database queries.\\n- In `app.py`, the code is almost identical to `main.py`, which suggests that there might be some redundancy that can be removed.'}}",
      "During task with name 'code_review' and id 'bf15874b-8565-9646-6670-ef9c9e40150e'"
     ]
    }
   ],
   "source": [
    "response = workflow.invoke(\n",
    "    {\n",
    "        \"user_input_requirements\": \"\"\"\n",
    "        I want to build a task management web application. \n",
    "        Features:\n",
    "        - Users can create, update, and delete tasks.\n",
    "        - Tasks should have priority and due dates.\n",
    "        - A dashboard to track completed vs pending tasks.\n",
    "        - Simple login with email and password.\n",
    "        Tech Stack Preference: Python (FastAPI) for backend, React for frontend.\n",
    "        Deployment: Host on AWS.\n",
    "        \"\"\"\n",
    "    }\n",
    ")"
   ]
  },
  {
   "cell_type": "code",
   "execution_count": null,
   "id": "1d063814",
   "metadata": {},
   "outputs": [
    {
     "data": {
      "text/plain": [
       "{'user_input_requirements': '\\n        I want to build a task management web application. \\n        Features:\\n        - Users can create, update, and delete tasks.\\n        - Tasks should have priority and due dates.\\n        - A dashboard to track completed vs pending tasks.\\n        - Simple login with email and password.\\n        Tech Stack Preference: Python (FastAPI) for backend, React for frontend.\\n        Deployment: Host on AWS.\\n        ',\n",
       " 'auto_generated_user_stories_markdown': [HumanMessage(content='### User Stories\\n\\n#### Task Creation and Management\\n\\nUS-1: As a registered user, I want to create a new task with priority and due date so that I can plan and organize my work efficiently.\\n\\n**Acceptance Criteria:**\\n\\n- Given that the user is logged in, when they click \"Create Task\", then they should see a form to input task details.\\n- The user should be able to select a priority level (High, Medium, Low) and enter a due date.\\n- The task should be saved in the database with the specified details.\\n\\n**Priority:** High\\n**Dependencies:** Task schema setup in database\\n\\nUS-2: As a registered user, I want to update an existing task so that I can change its priority or due date if needed.\\n\\n**Acceptance Criteria:**\\n\\n- Given that the user is logged in and has viewed a task, when they click \"Edit Task\", then they should see a form to update task details.\\n- The user should be able to update the priority level and due date.\\n- The task should be updated in the database with the new details.\\n\\n**Priority:** Medium\\n**Dependencies:** US-1\\n\\nUS-3: As a registered user, I want to delete a task so that I can remove completed or unnecessary tasks.\\n\\n**Acceptance Criteria:**\\n\\n- Given that the user is logged in and has viewed a task, when they click \"Delete Task\", then the task should be removed from the database.\\n- The task should no longer be visible in the task list.\\n\\n**Priority:** Medium\\n**Dependencies:** US-1\\n\\n#### Task Tracking and Dashboard\\n\\nUS-4: As a registered user, I want to view a dashboard showing completed vs pending tasks so that I can track my progress.\\n\\n**Acceptance Criteria:**\\n\\n- Given that the user is logged in, when they view the dashboard, then they should see a chart or graph showing the number of completed and pending tasks.\\n- The dashboard should update in real-time as tasks are completed or created.\\n\\n**Priority:** High\\n**Dependencies:** Task schema setup in database\\n\\n#### Authentication and Authorization\\n\\nUS-5: As a user, I want to log in with email and password so that I can access my task management account.\\n\\n**Acceptance Criteria:**\\n\\n- Given that the user enters a valid email and password, when they click \"Login\", then they should be redirected to the task list.\\n- The user should be authenticated and authorized to access their account.\\n\\n**Priority:** High\\n**Dependencies:** User schema setup in database\\n\\nUS-6: As a registered user, I want to reset my password so that I can regain access to my account when I forget it.\\n\\n**Acceptance Criteria:**\\n\\n- Given that the user is on the login page, when they click \"Forgot Password\", then they should be prompted to enter their email.\\n- An email with a reset link should be sent.\\n- The reset link should expire after 24 hours.\\n\\n**Priority:** High\\n**Dependencies:** Email service setup\\n\\n#### Deployment and Hosting\\n\\nUS-7: As a developer, I want to deploy the task management web application on AWS so that it can be accessed by users.\\n\\n**Acceptance Criteria:**\\n\\n- Given that the application is built with Python (FastAPI) and React, when it is deployed on AWS, then it should be accessible through a public URL.\\n- The application should be secure and scalable.\\n\\n**Priority:** Low\\n**Dependencies:** AWS account setup\\n\\n### Clarification Questions\\n\\n- What is the preferred authentication flow (e.g., OAuth, JWT, session-based)?\\n- How should task priorities be displayed and updated (e.g., dropdown, color-coding)?\\n- Should there be a limit on the number of tasks a user can create or update?\\n- How should the dashboard chart or graph be configured (e.g., time range, task status)?', additional_kwargs={}, response_metadata={}, id='3fb1e685-c30c-44cf-8c59-1e3936399944')],\n",
       " 'design_docs': []}"
      ]
     },
     "execution_count": 45,
     "metadata": {},
     "output_type": "execute_result"
    }
   ],
   "source": [
    "response"
   ]
  },
  {
   "cell_type": "code",
   "execution_count": null,
   "id": "cd58b19a",
   "metadata": {},
   "outputs": [],
   "source": []
  },
  {
   "cell_type": "code",
   "execution_count": null,
   "id": "f0827dc1",
   "metadata": {},
   "outputs": [],
   "source": []
  },
  {
   "cell_type": "markdown",
   "id": "e827a16c",
   "metadata": {},
   "source": [
    "### Remaining Nodes to code"
   ]
  },
  {
   "cell_type": "code",
   "execution_count": null,
   "id": "9e5b8273",
   "metadata": {},
   "outputs": [],
   "source": []
  },
  {
   "cell_type": "code",
   "execution_count": null,
   "id": "3b60276c",
   "metadata": {},
   "outputs": [],
   "source": [
    "def write_test_case():\n",
    "    pass"
   ]
  },
  {
   "cell_type": "code",
   "execution_count": null,
   "id": "3fe87bdf",
   "metadata": {},
   "outputs": [],
   "source": [
    "def fix_code_after_security():\n",
    "    pass"
   ]
  },
  {
   "cell_type": "code",
   "execution_count": null,
   "id": "024103cb",
   "metadata": {},
   "outputs": [],
   "source": [
    "def test_case_review():\n",
    "    pass"
   ]
  },
  {
   "cell_type": "code",
   "execution_count": null,
   "id": "19c1de47",
   "metadata": {},
   "outputs": [],
   "source": [
    "def qa_testing():\n",
    "    pass"
   ]
  },
  {
   "cell_type": "code",
   "execution_count": null,
   "id": "7889a736",
   "metadata": {},
   "outputs": [],
   "source": [
    "def fix_test_cases_after_review():\n",
    "    pass"
   ]
  },
  {
   "cell_type": "code",
   "execution_count": null,
   "id": "e16f8c36",
   "metadata": {},
   "outputs": [],
   "source": [
    "def deployment():\n",
    "    pass"
   ]
  },
  {
   "cell_type": "code",
   "execution_count": null,
   "id": "4a679a5d",
   "metadata": {},
   "outputs": [],
   "source": [
    "def fix_code_after_qa_feedback():\n",
    "    pass"
   ]
  },
  {
   "cell_type": "markdown",
   "id": "5459169c",
   "metadata": {},
   "source": [
    "### Conditional Branches"
   ]
  },
  {
   "cell_type": "code",
   "execution_count": null,
   "id": "fc39b21e",
   "metadata": {},
   "outputs": [],
   "source": [
    "def product_owner_response():\n",
    "    response = \"approved\"\n",
    "    if response == \"approved\":\n",
    "        return response"
   ]
  },
  {
   "cell_type": "code",
   "execution_count": null,
   "id": "6798bbeb",
   "metadata": {},
   "outputs": [],
   "source": []
  },
  {
   "cell_type": "code",
   "execution_count": null,
   "id": "00d6a2af",
   "metadata": {},
   "outputs": [],
   "source": [
    "def code_review_response():\n",
    "    response = \"approved\"\n",
    "    if response == \"approved\":\n",
    "        return response"
   ]
  },
  {
   "cell_type": "code",
   "execution_count": null,
   "id": "51a933cb",
   "metadata": {},
   "outputs": [],
   "source": [
    "def security_review_reponse():\n",
    "    response = \"approved\"\n",
    "    if response == \"approved\":\n",
    "        return response"
   ]
  },
  {
   "cell_type": "code",
   "execution_count": null,
   "id": "82ee9652",
   "metadata": {},
   "outputs": [],
   "source": [
    "def test_case_review_response():\n",
    "    response = \"approved\"\n",
    "    if response == \"approved\":\n",
    "        return response"
   ]
  },
  {
   "cell_type": "code",
   "execution_count": null,
   "id": "409d65e5",
   "metadata": {},
   "outputs": [],
   "source": [
    "def qa_testing_response():\n",
    "    response = \"passed\"\n",
    "    if response == \"passed\":\n",
    "        return response"
   ]
  },
  {
   "cell_type": "markdown",
   "id": "e2b830bc",
   "metadata": {},
   "source": [
    "### Create Graph, Add nodes and edges"
   ]
  },
  {
   "cell_type": "code",
   "execution_count": null,
   "id": "7b02a562",
   "metadata": {},
   "outputs": [
    {
     "data": {
      "text/plain": [
       "<langgraph.graph.state.StateGraph at 0x22ada6602d0>"
      ]
     },
     "execution_count": 42,
     "metadata": {},
     "output_type": "execute_result"
    }
   ],
   "source": [
    "graph = StateGraph(SDLCState)\n",
    "\n",
    "# Add Nodes\n",
    "graph.add_node(\"user_input_requirements\", user_input_requirements)\n",
    "graph.add_node(\"auto_generated_user_stories\", auto_generated_user_stories)\n",
    "graph.add_node(\"product_owner_review\", product_owner_review)\n",
    "graph.add_node(\"create_design_docs\", create_design_docs)\n",
    "graph.add_node(\"revise_user_stories\", revise_user_stories)\n",
    "graph.add_node(\"design_review\", design_review)\n",
    "graph.add_node(\"generate_code\", generate_code)\n",
    "graph.add_node(\"code_review\", code_review)\n",
    "graph.add_node(\"fix_code_after_code_review\", fix_code_after_code_review)\n",
    "graph.add_node(\"security_review\", security_review)\n",
    "graph.add_node(\"write_test_case\", write_test_case)\n",
    "graph.add_node(\"fix_code_after_security\", fix_code_after_security)\n",
    "graph.add_node(\"test_case_review\", test_case_review)\n",
    "graph.add_node(\"qa_testing\", qa_testing)\n",
    "graph.add_node(\"fix_test_cases_after_review\", fix_test_cases_after_review)\n",
    "graph.add_node(\"deployment\", deployment)\n",
    "graph.add_node(\"fix_code_after_qa_feedback\", fix_code_after_qa_feedback)\n",
    "\n",
    "\n",
    "# Define Edges\n",
    "graph.add_edge(START, \"user_input_requirements\")\n",
    "graph.add_edge(\"user_input_requirements\", \"auto_generated_user_stories\")\n",
    "graph.add_edge(\"auto_generated_user_stories\", \"product_owner_review\")\n",
    "graph.add_conditional_edges(\n",
    "    \"product_owner_review\",\n",
    "    product_owner_response,\n",
    "    {\"approved\": \"create_design_docs\", \"feedback\": \"revise_user_stories\"},\n",
    ")\n",
    "graph.add_edge(\n",
    "    \"revise_user_stories\", \"auto_generated_user_stories\"\n",
    ")  # When product_owner_response() is Feedback\n",
    "graph.add_edge(\"create_design_docs\", \"design_review\")\n",
    "\n",
    "graph.add_conditional_edges(\n",
    "    \"design_review\",\n",
    "    design_review_response,\n",
    "    {\"approved\": \"generate_code\", \"feedback\": \"create_design_docs\"},\n",
    ")\n",
    "\n",
    "graph.add_edge(\"generate_code\", \"code_review\")\n",
    "graph.add_conditional_edges(\n",
    "    \"code_review\",\n",
    "    code_review_response,\n",
    "    {\"approved\": \"security_review\", \"feedback\": \"fix_code_after_code_review\"},\n",
    ")\n",
    "graph.add_edge(\"fix_code_after_code_review\", \"generate_code\")\n",
    "\n",
    "graph.add_conditional_edges(\n",
    "    \"security_review\",\n",
    "    security_review_reponse,\n",
    "    {\"approved\": \"write_test_case\", \"feedback\": \"fix_code_after_security\"},\n",
    ")\n",
    "graph.add_edge(\"fix_code_after_security\", \"generate_code\")\n",
    "\n",
    "graph.add_edge(\"write_test_case\", \"test_case_review\")\n",
    "graph.add_conditional_edges(\n",
    "    \"test_case_review\",\n",
    "    test_case_review_response,\n",
    "    {\"approved\": \"qa_testing\", \"feedback\": \"fix_test_cases_after_review\"},\n",
    ")\n",
    "graph.add_edge(\"fix_test_cases_after_review\", \"write_test_case\")\n",
    "\n",
    "graph.add_conditional_edges(\n",
    "    \"qa_testing\",\n",
    "    qa_testing_response,\n",
    "    {\"passed\": \"deployment\", \"failed\": \"fix_code_after_qa_feedback\"},\n",
    ")\n",
    "graph.add_edge(\"fix_code_after_qa_feedback\", \"generate_code\")\n",
    "\n",
    "graph.add_edge(\"deployment\", END)"
   ]
  },
  {
   "cell_type": "code",
   "execution_count": null,
   "id": "13f67aaa",
   "metadata": {},
   "outputs": [],
   "source": [
    "# Compile the graph\n",
    "workflow = graph.compile()"
   ]
  },
  {
   "cell_type": "code",
   "execution_count": null,
   "id": "a4533751",
   "metadata": {},
   "outputs": [],
   "source": []
  },
  {
   "cell_type": "markdown",
   "id": "c20431b7",
   "metadata": {},
   "source": [
    "### Misc"
   ]
  },
  {
   "cell_type": "code",
   "execution_count": null,
   "id": "8978a4d9",
   "metadata": {},
   "outputs": [
    {
     "data": {
      "text/plain": [
       "'\\nNodes:\\n\\nuser_input_requirements()\\nauto_generated_user_stories()\\nproduct_owner_review()\\ncreate_design_docs() # Consist both functional & technical\\nrevise_user_stories()\\ndesign_review()\\ngenerate_code()\\ncode_review()\\nfix_code_after_code_review()\\nsecurity_review()\\nwrite_test_case()\\nfix_code_after_security()\\ntest_case_review()\\nqa_testing()\\nfix_test_cases_after_review()\\ndeployment()\\nfix_code_after_qa_feedback()\\n'"
      ]
     },
     "execution_count": 44,
     "metadata": {},
     "output_type": "execute_result"
    }
   ],
   "source": [
    "\"\"\"\n",
    "# Conditional Branches\n",
    "\n",
    "1. product_owner_response()\n",
    "2. design_review_response()\n",
    "3. code_review_response()\n",
    "4. security_review_reponse()\n",
    "5. test_case_review_response()\n",
    "6. qa_testing_response()\n",
    "\"\"\"\n",
    "\n",
    "\n",
    "\n",
    "\"\"\"\n",
    "Nodes:\n",
    "\n",
    "user_input_requirements()\n",
    "auto_generated_user_stories()\n",
    "product_owner_review()\n",
    "create_design_docs() # Consist both functional & technical\n",
    "revise_user_stories()\n",
    "design_review()\n",
    "generate_code()\n",
    "code_review()\n",
    "fix_code_after_code_review()\n",
    "security_review()\n",
    "write_test_case()\n",
    "fix_code_after_security()\n",
    "test_case_review()\n",
    "qa_testing()\n",
    "fix_test_cases_after_review()\n",
    "deployment()\n",
    "fix_code_after_qa_feedback()\n",
    "\"\"\""
   ]
  },
  {
   "cell_type": "code",
   "execution_count": null,
   "id": "81b470a1",
   "metadata": {},
   "outputs": [],
   "source": []
  }
 ],
 "metadata": {
  "kernelspec": {
   "display_name": ".venv",
   "language": "python",
   "name": "python3"
  },
  "language_info": {
   "codemirror_mode": {
    "name": "ipython",
    "version": 3
   },
   "file_extension": ".py",
   "mimetype": "text/x-python",
   "name": "python",
   "nbconvert_exporter": "python",
   "pygments_lexer": "ipython3",
   "version": "3.13.3"
  }
 },
 "nbformat": 4,
 "nbformat_minor": 5
}
